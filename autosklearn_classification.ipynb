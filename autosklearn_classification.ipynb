{
  "nbformat": 4,
  "nbformat_minor": 0,
  "metadata": {
    "colab": {
      "name": "autosklearn_AV_classification_working",
      "provenance": [],
      "collapsed_sections": []
    },
    "kernelspec": {
      "name": "python3",
      "display_name": "Python 3"
    },
    "language_info": {
      "name": "python"
    }
  },
  "cells": [
    {
      "cell_type": "code",
      "source": [
        "pip install auto-sklearn"
      ],
      "metadata": {
        "id": "Qeyu04KG9hi5"
      },
      "execution_count": null,
      "outputs": []
    },
    {
      "cell_type": "code",
      "execution_count": null,
      "metadata": {
        "id": "1LXeDWtBi8RI"
      },
      "outputs": [],
      "source": [
        "import pandas as pd\n",
        "import numpy as np\n",
        "import matplotlib.pyplot as plt\n",
        "import seaborn as sns\n",
        "from sklearn.model_selection import train_test_split\n",
        "from pprint import pprint"
      ]
    },
    {
      "cell_type": "markdown",
      "source": [
        "# **Binary Classification Task using Heart disease prediction dataset**\n",
        "https://archive.ics.uci.edu/ml/datasets/Heart+Disease\n",
        "---\n",
        "\n"
      ],
      "metadata": {
        "id": "EzCvk2qk_SMm"
      }
    },
    {
      "cell_type": "code",
      "source": [
        "df=pd.read_csv('/content/heart.csv')\n",
        "df.head()"
      ],
      "metadata": {
        "colab": {
          "base_uri": "https://localhost:8080/",
          "height": 206
        },
        "id": "wlHnkh62L2Ye",
        "outputId": "37ab34f9-a288-40dc-8b14-d84cb9e2a6ba"
      },
      "execution_count": null,
      "outputs": [
        {
          "output_type": "execute_result",
          "data": {
            "text/html": [
              "\n",
              "  <div id=\"df-7d150b58-c40d-4d8f-bb0f-1d775912a2fe\">\n",
              "    <div class=\"colab-df-container\">\n",
              "      <div>\n",
              "<style scoped>\n",
              "    .dataframe tbody tr th:only-of-type {\n",
              "        vertical-align: middle;\n",
              "    }\n",
              "\n",
              "    .dataframe tbody tr th {\n",
              "        vertical-align: top;\n",
              "    }\n",
              "\n",
              "    .dataframe thead th {\n",
              "        text-align: right;\n",
              "    }\n",
              "</style>\n",
              "<table border=\"1\" class=\"dataframe\">\n",
              "  <thead>\n",
              "    <tr style=\"text-align: right;\">\n",
              "      <th></th>\n",
              "      <th>age</th>\n",
              "      <th>sex</th>\n",
              "      <th>cp</th>\n",
              "      <th>trestbps</th>\n",
              "      <th>chol</th>\n",
              "      <th>fbs</th>\n",
              "      <th>restecg</th>\n",
              "      <th>thalach</th>\n",
              "      <th>exang</th>\n",
              "      <th>oldpeak</th>\n",
              "      <th>slope</th>\n",
              "      <th>ca</th>\n",
              "      <th>thal</th>\n",
              "      <th>target</th>\n",
              "    </tr>\n",
              "  </thead>\n",
              "  <tbody>\n",
              "    <tr>\n",
              "      <th>0</th>\n",
              "      <td>63</td>\n",
              "      <td>1</td>\n",
              "      <td>3</td>\n",
              "      <td>145</td>\n",
              "      <td>233</td>\n",
              "      <td>1</td>\n",
              "      <td>0</td>\n",
              "      <td>150</td>\n",
              "      <td>0</td>\n",
              "      <td>2.3</td>\n",
              "      <td>0</td>\n",
              "      <td>0</td>\n",
              "      <td>1</td>\n",
              "      <td>1</td>\n",
              "    </tr>\n",
              "    <tr>\n",
              "      <th>1</th>\n",
              "      <td>37</td>\n",
              "      <td>1</td>\n",
              "      <td>2</td>\n",
              "      <td>130</td>\n",
              "      <td>250</td>\n",
              "      <td>0</td>\n",
              "      <td>1</td>\n",
              "      <td>187</td>\n",
              "      <td>0</td>\n",
              "      <td>3.5</td>\n",
              "      <td>0</td>\n",
              "      <td>0</td>\n",
              "      <td>2</td>\n",
              "      <td>1</td>\n",
              "    </tr>\n",
              "    <tr>\n",
              "      <th>2</th>\n",
              "      <td>41</td>\n",
              "      <td>0</td>\n",
              "      <td>1</td>\n",
              "      <td>130</td>\n",
              "      <td>204</td>\n",
              "      <td>0</td>\n",
              "      <td>0</td>\n",
              "      <td>172</td>\n",
              "      <td>0</td>\n",
              "      <td>1.4</td>\n",
              "      <td>2</td>\n",
              "      <td>0</td>\n",
              "      <td>2</td>\n",
              "      <td>1</td>\n",
              "    </tr>\n",
              "    <tr>\n",
              "      <th>3</th>\n",
              "      <td>56</td>\n",
              "      <td>1</td>\n",
              "      <td>1</td>\n",
              "      <td>120</td>\n",
              "      <td>236</td>\n",
              "      <td>0</td>\n",
              "      <td>1</td>\n",
              "      <td>178</td>\n",
              "      <td>0</td>\n",
              "      <td>0.8</td>\n",
              "      <td>2</td>\n",
              "      <td>0</td>\n",
              "      <td>2</td>\n",
              "      <td>1</td>\n",
              "    </tr>\n",
              "    <tr>\n",
              "      <th>4</th>\n",
              "      <td>57</td>\n",
              "      <td>0</td>\n",
              "      <td>0</td>\n",
              "      <td>120</td>\n",
              "      <td>354</td>\n",
              "      <td>0</td>\n",
              "      <td>1</td>\n",
              "      <td>163</td>\n",
              "      <td>1</td>\n",
              "      <td>0.6</td>\n",
              "      <td>2</td>\n",
              "      <td>0</td>\n",
              "      <td>2</td>\n",
              "      <td>1</td>\n",
              "    </tr>\n",
              "  </tbody>\n",
              "</table>\n",
              "</div>\n",
              "      <button class=\"colab-df-convert\" onclick=\"convertToInteractive('df-7d150b58-c40d-4d8f-bb0f-1d775912a2fe')\"\n",
              "              title=\"Convert this dataframe to an interactive table.\"\n",
              "              style=\"display:none;\">\n",
              "        \n",
              "  <svg xmlns=\"http://www.w3.org/2000/svg\" height=\"24px\"viewBox=\"0 0 24 24\"\n",
              "       width=\"24px\">\n",
              "    <path d=\"M0 0h24v24H0V0z\" fill=\"none\"/>\n",
              "    <path d=\"M18.56 5.44l.94 2.06.94-2.06 2.06-.94-2.06-.94-.94-2.06-.94 2.06-2.06.94zm-11 1L8.5 8.5l.94-2.06 2.06-.94-2.06-.94L8.5 2.5l-.94 2.06-2.06.94zm10 10l.94 2.06.94-2.06 2.06-.94-2.06-.94-.94-2.06-.94 2.06-2.06.94z\"/><path d=\"M17.41 7.96l-1.37-1.37c-.4-.4-.92-.59-1.43-.59-.52 0-1.04.2-1.43.59L10.3 9.45l-7.72 7.72c-.78.78-.78 2.05 0 2.83L4 21.41c.39.39.9.59 1.41.59.51 0 1.02-.2 1.41-.59l7.78-7.78 2.81-2.81c.8-.78.8-2.07 0-2.86zM5.41 20L4 18.59l7.72-7.72 1.47 1.35L5.41 20z\"/>\n",
              "  </svg>\n",
              "      </button>\n",
              "      \n",
              "  <style>\n",
              "    .colab-df-container {\n",
              "      display:flex;\n",
              "      flex-wrap:wrap;\n",
              "      gap: 12px;\n",
              "    }\n",
              "\n",
              "    .colab-df-convert {\n",
              "      background-color: #E8F0FE;\n",
              "      border: none;\n",
              "      border-radius: 50%;\n",
              "      cursor: pointer;\n",
              "      display: none;\n",
              "      fill: #1967D2;\n",
              "      height: 32px;\n",
              "      padding: 0 0 0 0;\n",
              "      width: 32px;\n",
              "    }\n",
              "\n",
              "    .colab-df-convert:hover {\n",
              "      background-color: #E2EBFA;\n",
              "      box-shadow: 0px 1px 2px rgba(60, 64, 67, 0.3), 0px 1px 3px 1px rgba(60, 64, 67, 0.15);\n",
              "      fill: #174EA6;\n",
              "    }\n",
              "\n",
              "    [theme=dark] .colab-df-convert {\n",
              "      background-color: #3B4455;\n",
              "      fill: #D2E3FC;\n",
              "    }\n",
              "\n",
              "    [theme=dark] .colab-df-convert:hover {\n",
              "      background-color: #434B5C;\n",
              "      box-shadow: 0px 1px 3px 1px rgba(0, 0, 0, 0.15);\n",
              "      filter: drop-shadow(0px 1px 2px rgba(0, 0, 0, 0.3));\n",
              "      fill: #FFFFFF;\n",
              "    }\n",
              "  </style>\n",
              "\n",
              "      <script>\n",
              "        const buttonEl =\n",
              "          document.querySelector('#df-7d150b58-c40d-4d8f-bb0f-1d775912a2fe button.colab-df-convert');\n",
              "        buttonEl.style.display =\n",
              "          google.colab.kernel.accessAllowed ? 'block' : 'none';\n",
              "\n",
              "        async function convertToInteractive(key) {\n",
              "          const element = document.querySelector('#df-7d150b58-c40d-4d8f-bb0f-1d775912a2fe');\n",
              "          const dataTable =\n",
              "            await google.colab.kernel.invokeFunction('convertToInteractive',\n",
              "                                                     [key], {});\n",
              "          if (!dataTable) return;\n",
              "\n",
              "          const docLinkHtml = 'Like what you see? Visit the ' +\n",
              "            '<a target=\"_blank\" href=https://colab.research.google.com/notebooks/data_table.ipynb>data table notebook</a>'\n",
              "            + ' to learn more about interactive tables.';\n",
              "          element.innerHTML = '';\n",
              "          dataTable['output_type'] = 'display_data';\n",
              "          await google.colab.output.renderOutput(dataTable, element);\n",
              "          const docLink = document.createElement('div');\n",
              "          docLink.innerHTML = docLinkHtml;\n",
              "          element.appendChild(docLink);\n",
              "        }\n",
              "      </script>\n",
              "    </div>\n",
              "  </div>\n",
              "  "
            ],
            "text/plain": [
              "   age  sex  cp  trestbps  chol  fbs  ...  exang  oldpeak  slope  ca  thal  target\n",
              "0   63    1   3       145   233    1  ...      0      2.3      0   0     1       1\n",
              "1   37    1   2       130   250    0  ...      0      3.5      0   0     2       1\n",
              "2   41    0   1       130   204    0  ...      0      1.4      2   0     2       1\n",
              "3   56    1   1       120   236    0  ...      0      0.8      2   0     2       1\n",
              "4   57    0   0       120   354    0  ...      1      0.6      2   0     2       1\n",
              "\n",
              "[5 rows x 14 columns]"
            ]
          },
          "metadata": {},
          "execution_count": 2
        }
      ]
    },
    {
      "cell_type": "code",
      "source": [
        "df['target'].value_counts()"
      ],
      "metadata": {
        "colab": {
          "base_uri": "https://localhost:8080/"
        },
        "id": "DDW1IYZ5Wpu9",
        "outputId": "763dae30-dbca-4fed-c623-dd436b8f2d08"
      },
      "execution_count": null,
      "outputs": [
        {
          "output_type": "execute_result",
          "data": {
            "text/plain": [
              "1    165\n",
              "0    138\n",
              "Name: target, dtype: int64"
            ]
          },
          "metadata": {},
          "execution_count": 3
        }
      ]
    },
    {
      "cell_type": "code",
      "source": [
        "X=df.drop(['target'],axis=1)\n",
        "y=df['target']"
      ],
      "metadata": {
        "id": "ZCNJSUCSMIJP"
      },
      "execution_count": null,
      "outputs": []
    },
    {
      "cell_type": "code",
      "source": [
        "X_train, X_test, y_train, y_test = train_test_split(X, y, test_size=0.2,random_state=42)\n",
        "X_train.shape, X_test.shape,y_train.shape, y_test.shape"
      ],
      "metadata": {
        "id": "-5Bl_4x1_RjF",
        "colab": {
          "base_uri": "https://localhost:8080/"
        },
        "outputId": "9791b9e6-b720-4fed-f9a8-cb32d1fa64b7"
      },
      "execution_count": null,
      "outputs": [
        {
          "output_type": "execute_result",
          "data": {
            "text/plain": [
              "((242, 13), (61, 13), (242,), (61,))"
            ]
          },
          "metadata": {},
          "execution_count": 5
        }
      ]
    },
    {
      "cell_type": "code",
      "source": [
        "import autosklearn.classification\n",
        "automl = autosklearn.classification.AutoSklearnClassifier(\n",
        "time_left_for_this_task=5*60,per_run_time_limit=30,tmp_folder='/temp/autosklearn_classification_example_tmp')\n",
        "automl.fit(X_train, y_train)"
      ],
      "metadata": {
        "colab": {
          "base_uri": "https://localhost:8080/"
        },
        "id": "xpa_VcwnI1YU",
        "outputId": "de698185-5046-499e-de85-02a1c435ac6f"
      },
      "execution_count": null,
      "outputs": [
        {
          "output_type": "execute_result",
          "data": {
            "text/plain": [
              "AutoSklearnClassifier(per_run_time_limit=30, time_left_for_this_task=300,\n",
              "                      tmp_folder='/temp/autosklearn_classification_example_tmp')"
            ]
          },
          "metadata": {},
          "execution_count": 6
        }
      ]
    },
    {
      "cell_type": "code",
      "source": [
        "print(automl.leaderboard())"
      ],
      "metadata": {
        "colab": {
          "base_uri": "https://localhost:8080/"
        },
        "id": "VFU-UiMqGmVq",
        "outputId": "041834d0-b5a6-4ce7-c6f0-0c1a5b5fb4a8"
      },
      "execution_count": null,
      "outputs": [
        {
          "output_type": "stream",
          "name": "stdout",
          "text": [
            "          rank  ensemble_weight                type    cost  duration\n",
            "model_id                                                             \n",
            "43           1             0.08                 mlp  0.1625  1.569864\n",
            "52           2             0.06  passive_aggressive  0.1625  0.897538\n",
            "41           3             0.04       random_forest  0.1625  1.496750\n",
            "25           4             0.24            adaboost  0.1625  1.300079\n",
            "62           5             0.02        bernoulli_nb  0.1750  0.892822\n",
            "47           6             0.02  passive_aggressive  0.1750  1.029115\n",
            "71           7             0.04       liblinear_svc  0.1750  0.873132\n",
            "51           8             0.04                 mlp  0.1875  1.355503\n",
            "54           9             0.06        bernoulli_nb  0.2125  0.981869\n",
            "55          10             0.02                 mlp  0.2125  1.556027\n",
            "67          11             0.04       liblinear_svc  0.2250  1.126158\n",
            "61          12             0.02  passive_aggressive  0.2250  0.855373\n",
            "8           13             0.04       random_forest  0.2250  2.522261\n",
            "12          14             0.02            adaboost  0.2375  1.682465\n",
            "36          15             0.02                 mlp  0.2375  1.018087\n",
            "7           16             0.04       random_forest  0.2375  4.419178\n",
            "38          17             0.04                 lda  0.2500  0.949564\n",
            "10          18             0.08         extra_trees  0.2500  1.955217\n",
            "19          19             0.02       random_forest  0.2625  2.008222\n",
            "49          20             0.06       liblinear_svc  0.2750  0.925118\n"
          ]
        }
      ]
    },
    {
      "cell_type": "code",
      "source": [
        "pprint(automl.show_models())"
      ],
      "metadata": {
        "colab": {
          "base_uri": "https://localhost:8080/"
        },
        "id": "g1dv-2WlNd9T",
        "outputId": "ca7e5f2f-88a7-4f46-c01e-5850f25fdfb1"
      },
      "execution_count": null,
      "outputs": [
        {
          "output_type": "stream",
          "name": "stdout",
          "text": [
            "{7: {'balancing': Balancing(random_state=1),\n",
            "     'classifier': <autosklearn.pipeline.components.classification.ClassifierChoice object at 0x7fdf989365d0>,\n",
            "     'cost': 0.23750000000000004,\n",
            "     'data_preprocessor': <autosklearn.pipeline.components.data_preprocessing.DataPreprocessorChoice object at 0x7fdf998df590>,\n",
            "     'ensemble_weight': 0.04,\n",
            "     'feature_preprocessor': <autosklearn.pipeline.components.feature_preprocessing.FeaturePreprocessorChoice object at 0x7fdf98936710>,\n",
            "     'model_id': 7,\n",
            "     'rank': 14,\n",
            "     'sklearn_classifier': RandomForestClassifier(criterion='entropy', max_features=10, min_samples_leaf=7,\n",
            "                       n_estimators=512, n_jobs=1, random_state=1,\n",
            "                       warm_start=True)},\n",
            " 8: {'balancing': Balancing(random_state=1),\n",
            "     'classifier': <autosklearn.pipeline.components.classification.ClassifierChoice object at 0x7fdf989a2450>,\n",
            "     'cost': 0.22499999999999998,\n",
            "     'data_preprocessor': <autosklearn.pipeline.components.data_preprocessing.DataPreprocessorChoice object at 0x7fdf98bc1590>,\n",
            "     'ensemble_weight': 0.04,\n",
            "     'feature_preprocessor': <autosklearn.pipeline.components.feature_preprocessing.FeaturePreprocessorChoice object at 0x7fdf98a19490>,\n",
            "     'model_id': 8,\n",
            "     'rank': 11,\n",
            "     'sklearn_classifier': RandomForestClassifier(criterion='entropy', max_features=15, n_estimators=512,\n",
            "                       n_jobs=1, random_state=1, warm_start=True)},\n",
            " 10: {'balancing': Balancing(random_state=1, strategy='weighting'),\n",
            "      'classifier': <autosklearn.pipeline.components.classification.ClassifierChoice object at 0x7fdf96daa390>,\n",
            "      'cost': 0.25,\n",
            "      'data_preprocessor': <autosklearn.pipeline.components.data_preprocessing.DataPreprocessorChoice object at 0x7fdf96df3390>,\n",
            "      'ensemble_weight': 0.08,\n",
            "      'feature_preprocessor': <autosklearn.pipeline.components.feature_preprocessing.FeaturePreprocessorChoice object at 0x7fdf96d8e0d0>,\n",
            "      'model_id': 10,\n",
            "      'rank': 17,\n",
            "      'sklearn_classifier': ExtraTreesClassifier(max_features=3, min_samples_split=10, n_estimators=512,\n",
            "                     n_jobs=1, random_state=1, warm_start=True)},\n",
            " 12: {'balancing': Balancing(random_state=1),\n",
            "      'classifier': <autosklearn.pipeline.components.classification.ClassifierChoice object at 0x7fdf98956790>,\n",
            "      'cost': 0.23750000000000004,\n",
            "      'data_preprocessor': <autosklearn.pipeline.components.data_preprocessing.DataPreprocessorChoice object at 0x7fdf9892f350>,\n",
            "      'ensemble_weight': 0.02,\n",
            "      'feature_preprocessor': <autosklearn.pipeline.components.feature_preprocessing.FeaturePreprocessorChoice object at 0x7fdf98941450>,\n",
            "      'model_id': 12,\n",
            "      'rank': 15,\n",
            "      'sklearn_classifier': AdaBoostClassifier(base_estimator=DecisionTreeClassifier(max_depth=3),\n",
            "                   learning_rate=0.046269426995092074, n_estimators=406,\n",
            "                   random_state=1)},\n",
            " 19: {'balancing': Balancing(random_state=1, strategy='weighting'),\n",
            "      'classifier': <autosklearn.pipeline.components.classification.ClassifierChoice object at 0x7fdf96d64690>,\n",
            "      'cost': 0.26249999999999996,\n",
            "      'data_preprocessor': <autosklearn.pipeline.components.data_preprocessing.DataPreprocessorChoice object at 0x7fdf96e2d590>,\n",
            "      'ensemble_weight': 0.02,\n",
            "      'feature_preprocessor': <autosklearn.pipeline.components.feature_preprocessing.FeaturePreprocessorChoice object at 0x7fdf96c0f750>,\n",
            "      'model_id': 19,\n",
            "      'rank': 19,\n",
            "      'sklearn_classifier': RandomForestClassifier(criterion='entropy', max_features=2, min_samples_leaf=2,\n",
            "                       n_estimators=512, n_jobs=1, random_state=1,\n",
            "                       warm_start=True)},\n",
            " 25: {'balancing': Balancing(random_state=1),\n",
            "      'classifier': <autosklearn.pipeline.components.classification.ClassifierChoice object at 0x7fdf99b1b910>,\n",
            "      'cost': 0.16249999999999998,\n",
            "      'data_preprocessor': <autosklearn.pipeline.components.data_preprocessing.DataPreprocessorChoice object at 0x7fdf9984d090>,\n",
            "      'ensemble_weight': 0.24,\n",
            "      'feature_preprocessor': <autosklearn.pipeline.components.feature_preprocessing.FeaturePreprocessorChoice object at 0x7fdf9ba6c090>,\n",
            "      'model_id': 25,\n",
            "      'rank': 1,\n",
            "      'sklearn_classifier': AdaBoostClassifier(algorithm='SAMME',\n",
            "                   base_estimator=DecisionTreeClassifier(max_depth=2),\n",
            "                   learning_rate=0.13167493237005792, n_estimators=56,\n",
            "                   random_state=1)},\n",
            " 36: {'balancing': Balancing(random_state=1),\n",
            "      'classifier': <autosklearn.pipeline.components.classification.ClassifierChoice object at 0x7fdf96d94910>,\n",
            "      'cost': 0.23750000000000004,\n",
            "      'data_preprocessor': <autosklearn.pipeline.components.data_preprocessing.DataPreprocessorChoice object at 0x7fdf9977c950>,\n",
            "      'ensemble_weight': 0.02,\n",
            "      'feature_preprocessor': <autosklearn.pipeline.components.feature_preprocessing.FeaturePreprocessorChoice object at 0x7fdf96d94550>,\n",
            "      'model_id': 36,\n",
            "      'rank': 16,\n",
            "      'sklearn_classifier': MLPClassifier(activation='tanh', alpha=0.00023790171387162555, beta_1=0.999,\n",
            "              beta_2=0.9, hidden_layer_sizes=(27, 27),\n",
            "              learning_rate_init=0.0007116024260579338, max_iter=128,\n",
            "              n_iter_no_change=32, random_state=1, validation_fraction=0.0,\n",
            "              verbose=0, warm_start=True)},\n",
            " 38: {'balancing': Balancing(random_state=1, strategy='weighting'),\n",
            "      'classifier': <autosklearn.pipeline.components.classification.ClassifierChoice object at 0x7fdf96e3d910>,\n",
            "      'cost': 0.25,\n",
            "      'data_preprocessor': <autosklearn.pipeline.components.data_preprocessing.DataPreprocessorChoice object at 0x7fdf96e2a5d0>,\n",
            "      'ensemble_weight': 0.04,\n",
            "      'feature_preprocessor': <autosklearn.pipeline.components.feature_preprocessing.FeaturePreprocessorChoice object at 0x7fdf96e3d590>,\n",
            "      'model_id': 38,\n",
            "      'rank': 18,\n",
            "      'sklearn_classifier': LinearDiscriminantAnalysis(shrinkage='auto', solver='lsqr',\n",
            "                           tol=3.524681663149155e-05)},\n",
            " 41: {'balancing': Balancing(random_state=1),\n",
            "      'classifier': <autosklearn.pipeline.components.classification.ClassifierChoice object at 0x7fdf99aedb10>,\n",
            "      'cost': 0.16249999999999998,\n",
            "      'data_preprocessor': <autosklearn.pipeline.components.data_preprocessing.DataPreprocessorChoice object at 0x7fdf9984d4d0>,\n",
            "      'ensemble_weight': 0.04,\n",
            "      'feature_preprocessor': <autosklearn.pipeline.components.feature_preprocessing.FeaturePreprocessorChoice object at 0x7fdf99861b10>,\n",
            "      'model_id': 41,\n",
            "      'rank': 2,\n",
            "      'sklearn_classifier': RandomForestClassifier(bootstrap=False, max_features=1, min_samples_leaf=20,\n",
            "                       min_samples_split=15, n_estimators=512, n_jobs=1,\n",
            "                       random_state=1, warm_start=True)},\n",
            " 43: {'balancing': Balancing(random_state=1),\n",
            "      'classifier': <autosklearn.pipeline.components.classification.ClassifierChoice object at 0x7fdf99b828d0>,\n",
            "      'cost': 0.16249999999999998,\n",
            "      'data_preprocessor': <autosklearn.pipeline.components.data_preprocessing.DataPreprocessorChoice object at 0x7fdf99b20c10>,\n",
            "      'ensemble_weight': 0.08,\n",
            "      'feature_preprocessor': <autosklearn.pipeline.components.feature_preprocessing.FeaturePreprocessorChoice object at 0x7fdf99b826d0>,\n",
            "      'model_id': 43,\n",
            "      'rank': 3,\n",
            "      'sklearn_classifier': MLPClassifier(alpha=0.042023489172477606, beta_1=0.999, beta_2=0.9,\n",
            "              hidden_layer_sizes=(61,),\n",
            "              learning_rate_init=0.00030740984399235937, max_iter=256,\n",
            "              n_iter_no_change=32, random_state=1, validation_fraction=0.0,\n",
            "              verbose=0, warm_start=True)},\n",
            " 47: {'balancing': Balancing(random_state=1, strategy='weighting'),\n",
            "      'classifier': <autosklearn.pipeline.components.classification.ClassifierChoice object at 0x7fdf997d40d0>,\n",
            "      'cost': 0.17500000000000004,\n",
            "      'data_preprocessor': <autosklearn.pipeline.components.data_preprocessing.DataPreprocessorChoice object at 0x7fdf997218d0>,\n",
            "      'ensemble_weight': 0.02,\n",
            "      'feature_preprocessor': <autosklearn.pipeline.components.feature_preprocessing.FeaturePreprocessorChoice object at 0x7fdf997cde50>,\n",
            "      'model_id': 47,\n",
            "      'rank': 5,\n",
            "      'sklearn_classifier': PassiveAggressiveClassifier(C=1.3233627466607045, average=True,\n",
            "                            loss='squared_hinge', max_iter=16, random_state=1,\n",
            "                            tol=0.00681843952402506, warm_start=True)},\n",
            " 49: {'balancing': Balancing(random_state=1),\n",
            "      'classifier': <autosklearn.pipeline.components.classification.ClassifierChoice object at 0x7fdf96d64a50>,\n",
            "      'cost': 0.275,\n",
            "      'data_preprocessor': <autosklearn.pipeline.components.data_preprocessing.DataPreprocessorChoice object at 0x7fdf96dba150>,\n",
            "      'ensemble_weight': 0.06,\n",
            "      'feature_preprocessor': <autosklearn.pipeline.components.feature_preprocessing.FeaturePreprocessorChoice object at 0x7fdf96d59150>,\n",
            "      'model_id': 49,\n",
            "      'rank': 20,\n",
            "      'sklearn_classifier': LinearSVC(C=76.84967993006471, dual=False, intercept_scaling=1.0,\n",
            "          random_state=1, tol=3.5027633104187756e-05)},\n",
            " 51: {'balancing': Balancing(random_state=1),\n",
            "      'classifier': <autosklearn.pipeline.components.classification.ClassifierChoice object at 0x7fdf98ed7b90>,\n",
            "      'cost': 0.1875,\n",
            "      'data_preprocessor': <autosklearn.pipeline.components.data_preprocessing.DataPreprocessorChoice object at 0x7fdf991b2c50>,\n",
            "      'ensemble_weight': 0.04,\n",
            "      'feature_preprocessor': <autosklearn.pipeline.components.feature_preprocessing.FeaturePreprocessorChoice object at 0x7fdf98ed7610>,\n",
            "      'model_id': 51,\n",
            "      'rank': 8,\n",
            "      'sklearn_classifier': MLPClassifier(activation='tanh', alpha=0.0001906951125628503, beta_1=0.999,\n",
            "              beta_2=0.9, early_stopping=True, hidden_layer_sizes=(90, 90),\n",
            "              learning_rate_init=0.00018009776276177523, max_iter=32,\n",
            "              n_iter_no_change=32, random_state=1, verbose=0, warm_start=True)},\n",
            " 52: {'balancing': Balancing(random_state=1),\n",
            "      'classifier': <autosklearn.pipeline.components.classification.ClassifierChoice object at 0x7fdf99b2ce50>,\n",
            "      'cost': 0.16249999999999998,\n",
            "      'data_preprocessor': <autosklearn.pipeline.components.data_preprocessing.DataPreprocessorChoice object at 0x7fdf99800a10>,\n",
            "      'ensemble_weight': 0.06,\n",
            "      'feature_preprocessor': <autosklearn.pipeline.components.feature_preprocessing.FeaturePreprocessorChoice object at 0x7fdf99a25d90>,\n",
            "      'model_id': 52,\n",
            "      'rank': 4,\n",
            "      'sklearn_classifier': PassiveAggressiveClassifier(C=0.0025993078333932827, max_iter=32,\n",
            "                            random_state=1, tol=0.0015857731747662748,\n",
            "                            warm_start=True)},\n",
            " 54: {'balancing': Balancing(random_state=1, strategy='weighting'),\n",
            "      'classifier': <autosklearn.pipeline.components.classification.ClassifierChoice object at 0x7fdf98ce7e90>,\n",
            "      'cost': 0.21250000000000002,\n",
            "      'data_preprocessor': <autosklearn.pipeline.components.data_preprocessing.DataPreprocessorChoice object at 0x7fdf98ea1950>,\n",
            "      'ensemble_weight': 0.06,\n",
            "      'feature_preprocessor': <autosklearn.pipeline.components.feature_preprocessing.FeaturePreprocessorChoice object at 0x7fdf98ce7750>,\n",
            "      'model_id': 54,\n",
            "      'rank': 9,\n",
            "      'sklearn_classifier': BernoulliNB(alpha=14.328064200355941, fit_prior=False)},\n",
            " 55: {'balancing': Balancing(random_state=1, strategy='weighting'),\n",
            "      'classifier': <autosklearn.pipeline.components.classification.ClassifierChoice object at 0x7fdf98b7b750>,\n",
            "      'cost': 0.21250000000000002,\n",
            "      'data_preprocessor': <autosklearn.pipeline.components.data_preprocessing.DataPreprocessorChoice object at 0x7fdf98d31b10>,\n",
            "      'ensemble_weight': 0.02,\n",
            "      'feature_preprocessor': <autosklearn.pipeline.components.feature_preprocessing.FeaturePreprocessorChoice object at 0x7fdf98b7b1d0>,\n",
            "      'model_id': 55,\n",
            "      'rank': 10,\n",
            "      'sklearn_classifier': MLPClassifier(alpha=0.0007541812929614794, beta_1=0.999, beta_2=0.9,\n",
            "              hidden_layer_sizes=(83,),\n",
            "              learning_rate_init=0.0002162725837695353, max_iter=256,\n",
            "              n_iter_no_change=32, random_state=1, validation_fraction=0.0,\n",
            "              verbose=0, warm_start=True)},\n",
            " 61: {'balancing': Balancing(random_state=1),\n",
            "      'classifier': <autosklearn.pipeline.components.classification.ClassifierChoice object at 0x7fdf989a2d90>,\n",
            "      'cost': 0.22499999999999998,\n",
            "      'data_preprocessor': <autosklearn.pipeline.components.data_preprocessing.DataPreprocessorChoice object at 0x7fdf989e07d0>,\n",
            "      'ensemble_weight': 0.02,\n",
            "      'feature_preprocessor': <autosklearn.pipeline.components.feature_preprocessing.FeaturePreprocessorChoice object at 0x7fdf9984be90>,\n",
            "      'model_id': 61,\n",
            "      'rank': 12,\n",
            "      'sklearn_classifier': PassiveAggressiveClassifier(C=0.8481929921652578, max_iter=16, random_state=1,\n",
            "                            tol=9.159307908856663e-05, warm_start=True)},\n",
            " 62: {'balancing': Balancing(random_state=1),\n",
            "      'classifier': <autosklearn.pipeline.components.classification.ClassifierChoice object at 0x7fdf991c22d0>,\n",
            "      'cost': 0.17500000000000004,\n",
            "      'data_preprocessor': <autosklearn.pipeline.components.data_preprocessing.DataPreprocessorChoice object at 0x7fdf99721190>,\n",
            "      'ensemble_weight': 0.02,\n",
            "      'feature_preprocessor': <autosklearn.pipeline.components.feature_preprocessing.FeaturePreprocessorChoice object at 0x7fdf991ab190>,\n",
            "      'model_id': 62,\n",
            "      'rank': 6,\n",
            "      'sklearn_classifier': BernoulliNB(alpha=0.42467249876500335)},\n",
            " 67: {'balancing': Balancing(random_state=1, strategy='weighting'),\n",
            "      'classifier': <autosklearn.pipeline.components.classification.ClassifierChoice object at 0x7fdf98982590>,\n",
            "      'cost': 0.22499999999999998,\n",
            "      'data_preprocessor': <autosklearn.pipeline.components.data_preprocessing.DataPreprocessorChoice object at 0x7fdf98a19290>,\n",
            "      'ensemble_weight': 0.04,\n",
            "      'feature_preprocessor': <autosklearn.pipeline.components.feature_preprocessing.FeaturePreprocessorChoice object at 0x7fdf99913cd0>,\n",
            "      'model_id': 67,\n",
            "      'rank': 13,\n",
            "      'sklearn_classifier': LinearSVC(C=0.7118270280758258, class_weight='balanced', dual=False,\n",
            "          intercept_scaling=1.0, random_state=1, tol=0.05601845534766499)},\n",
            " 71: {'balancing': Balancing(random_state=1),\n",
            "      'classifier': <autosklearn.pipeline.components.classification.ClassifierChoice object at 0x7fdf98fe11d0>,\n",
            "      'cost': 0.17500000000000004,\n",
            "      'data_preprocessor': <autosklearn.pipeline.components.data_preprocessing.DataPreprocessorChoice object at 0x7fdf991ef7d0>,\n",
            "      'ensemble_weight': 0.04,\n",
            "      'feature_preprocessor': <autosklearn.pipeline.components.feature_preprocessing.FeaturePreprocessorChoice object at 0x7fdf99055e90>,\n",
            "      'model_id': 71,\n",
            "      'rank': 7,\n",
            "      'sklearn_classifier': LinearSVC(C=0.4314249712578717, dual=False, intercept_scaling=1.0,\n",
            "          random_state=1, tol=0.00017193163215872297)}}\n"
          ]
        }
      ]
    },
    {
      "cell_type": "code",
      "source": [
        "pprint(automl.sprint_statistics())"
      ],
      "metadata": {
        "colab": {
          "base_uri": "https://localhost:8080/"
        },
        "id": "hCWeCcyHNXIn",
        "outputId": "f7b69fe9-d636-4e01-a936-18bc516b521d"
      },
      "execution_count": null,
      "outputs": [
        {
          "output_type": "stream",
          "name": "stdout",
          "text": [
            "('auto-sklearn results:\\n'\n",
            " '  Dataset name: e07a0d5c-81e5-11ec-9d18-0242ac1c0002\\n'\n",
            " '  Metric: accuracy\\n'\n",
            " '  Best validation score: 0.837500\\n'\n",
            " '  Number of target algorithm runs: 70\\n'\n",
            " '  Number of successful target algorithm runs: 70\\n'\n",
            " '  Number of crashed target algorithm runs: 0\\n'\n",
            " '  Number of target algorithms that exceeded the time limit: 0\\n'\n",
            " '  Number of target algorithms that exceeded the memory limit: 0\\n')\n"
          ]
        }
      ]
    },
    {
      "cell_type": "code",
      "source": [
        "automl.score(X_train, y_train)"
      ],
      "metadata": {
        "colab": {
          "base_uri": "https://localhost:8080/"
        },
        "id": "HsQJlaKmQz5V",
        "outputId": "5407d713-6db9-49fa-9ad9-afda2baa933e"
      },
      "execution_count": null,
      "outputs": [
        {
          "output_type": "execute_result",
          "data": {
            "text/plain": [
              "0.9256198347107438"
            ]
          },
          "metadata": {},
          "execution_count": 10
        }
      ]
    },
    {
      "cell_type": "code",
      "source": [
        "automl.score(X_test, y_test)"
      ],
      "metadata": {
        "colab": {
          "base_uri": "https://localhost:8080/"
        },
        "id": "eH8YLoEsQ3Y5",
        "outputId": "2264051e-1016-40e6-a012-5fe00b2cbb92"
      },
      "execution_count": null,
      "outputs": [
        {
          "output_type": "execute_result",
          "data": {
            "text/plain": [
              "0.8524590163934426"
            ]
          },
          "metadata": {},
          "execution_count": 11
        }
      ]
    },
    {
      "cell_type": "code",
      "source": [
        "from sklearn.metrics import confusion_matrix, accuracy_score\n",
        "y_pred= automl.predict(X_test)\n",
        "conf_matrix= confusion_matrix(y_pred, y_test)\n",
        "sns.heatmap(conf_matrix, annot=True)"
      ],
      "metadata": {
        "colab": {
          "base_uri": "https://localhost:8080/",
          "height": 283
        },
        "id": "IjFTwkOOQ6HF",
        "outputId": "d1d5bbfb-5c9b-4ad6-85f5-9902795c6d5f"
      },
      "execution_count": null,
      "outputs": [
        {
          "output_type": "execute_result",
          "data": {
            "text/plain": [
              "<matplotlib.axes._subplots.AxesSubplot at 0x7fdf968184d0>"
            ]
          },
          "metadata": {},
          "execution_count": 12
        },
        {
          "output_type": "display_data",
          "data": {
            "image/png": "[encoded data removed]",
            "text/plain": [
              "<Figure size 432x288 with 2 Axes>"
            ]
          },
          "metadata": {
            "needs_background": "light"
          }
        }
      ]
    },
    {
      "cell_type": "code",
      "source": [
        "# Score of the final ensemble\n",
        "from sklearn.metrics import accuracy_score\n",
        "m1_acc_score= accuracy_score(y_test, y_pred)\n",
        "m1_acc_score"
      ],
      "metadata": {
        "colab": {
          "base_uri": "https://localhost:8080/"
        },
        "id": "QHwSuQMAUrI2",
        "outputId": "1f11e94a-765a-483c-aca9-5147e22a46d1"
      },
      "execution_count": null,
      "outputs": [
        {
          "output_type": "execute_result",
          "data": {
            "text/plain": [
              "0.8524590163934426"
            ]
          },
          "metadata": {},
          "execution_count": 13
        }
      ]
    },
    {
      "cell_type": "code",
      "source": [
        "#check null values in the dataset\n",
        "df.isnull().sum()"
      ],
      "metadata": {
        "colab": {
          "base_uri": "https://localhost:8080/"
        },
        "id": "wnPgDLIIOQQe",
        "outputId": "d00fac03-bfdd-4a46-9c9f-58c2698697a1"
      },
      "execution_count": null,
      "outputs": [
        {
          "output_type": "execute_result",
          "data": {
            "text/plain": [
              "age         0\n",
              "sex         0\n",
              "cp          0\n",
              "trestbps    0\n",
              "chol        0\n",
              "fbs         0\n",
              "restecg     0\n",
              "thalach     0\n",
              "exang       0\n",
              "oldpeak     0\n",
              "slope       0\n",
              "ca          0\n",
              "thal        0\n",
              "target      0\n",
              "dtype: int64"
            ]
          },
          "metadata": {},
          "execution_count": 14
        }
      ]
    },
    {
      "cell_type": "code",
      "source": [
        "df['target'].hist()"
      ],
      "metadata": {
        "colab": {
          "base_uri": "https://localhost:8080/",
          "height": 283
        },
        "id": "xawE_NISOT_a",
        "outputId": "4d5c774c-6a91-4c4a-b486-8fb9e5cd0c36"
      },
      "execution_count": null,
      "outputs": [
        {
          "output_type": "execute_result",
          "data": {
            "text/plain": [
              "<matplotlib.axes._subplots.AxesSubplot at 0x7fdf9648e610>"
            ]
          },
          "metadata": {},
          "execution_count": 15
        },
        {
          "output_type": "display_data",
          "data": {
            "image/png": "[encoded data removed]",
            "text/plain": [
              "<Figure size 432x288 with 1 Axes>"
            ]
          },
          "metadata": {
            "needs_background": "light"
          }
        }
      ]
    },
    {
      "cell_type": "code",
      "source": [
        "from sklearn.utils import resample\n",
        "healthy= df[df[\"target\"]==0]\n",
        "unhealthy=df[df[\"target\"]==1]"
      ],
      "metadata": {
        "id": "n1h5lkAtOYL4"
      },
      "execution_count": null,
      "outputs": []
    },
    {
      "cell_type": "code",
      "source": [
        "healthy.head()"
      ],
      "metadata": {
        "colab": {
          "base_uri": "https://localhost:8080/",
          "height": 206
        },
        "id": "nO8jlVjTOd0P",
        "outputId": "e1e15d7e-24a7-4064-d666-b576cea4e121"
      },
      "execution_count": null,
      "outputs": [
        {
          "output_type": "execute_result",
          "data": {
            "text/html": [
              "\n",
              "  <div id=\"df-d3217c7e-3eac-4254-85d8-e0805aee523b\">\n",
              "    <div class=\"colab-df-container\">\n",
              "      <div>\n",
              "<style scoped>\n",
              "    .dataframe tbody tr th:only-of-type {\n",
              "        vertical-align: middle;\n",
              "    }\n",
              "\n",
              "    .dataframe tbody tr th {\n",
              "        vertical-align: top;\n",
              "    }\n",
              "\n",
              "    .dataframe thead th {\n",
              "        text-align: right;\n",
              "    }\n",
              "</style>\n",
              "<table border=\"1\" class=\"dataframe\">\n",
              "  <thead>\n",
              "    <tr style=\"text-align: right;\">\n",
              "      <th></th>\n",
              "      <th>age</th>\n",
              "      <th>sex</th>\n",
              "      <th>cp</th>\n",
              "      <th>trestbps</th>\n",
              "      <th>chol</th>\n",
              "      <th>fbs</th>\n",
              "      <th>restecg</th>\n",
              "      <th>thalach</th>\n",
              "      <th>exang</th>\n",
              "      <th>oldpeak</th>\n",
              "      <th>slope</th>\n",
              "      <th>ca</th>\n",
              "      <th>thal</th>\n",
              "      <th>target</th>\n",
              "    </tr>\n",
              "  </thead>\n",
              "  <tbody>\n",
              "    <tr>\n",
              "      <th>165</th>\n",
              "      <td>67</td>\n",
              "      <td>1</td>\n",
              "      <td>0</td>\n",
              "      <td>160</td>\n",
              "      <td>286</td>\n",
              "      <td>0</td>\n",
              "      <td>0</td>\n",
              "      <td>108</td>\n",
              "      <td>1</td>\n",
              "      <td>1.5</td>\n",
              "      <td>1</td>\n",
              "      <td>3</td>\n",
              "      <td>2</td>\n",
              "      <td>0</td>\n",
              "    </tr>\n",
              "    <tr>\n",
              "      <th>166</th>\n",
              "      <td>67</td>\n",
              "      <td>1</td>\n",
              "      <td>0</td>\n",
              "      <td>120</td>\n",
              "      <td>229</td>\n",
              "      <td>0</td>\n",
              "      <td>0</td>\n",
              "      <td>129</td>\n",
              "      <td>1</td>\n",
              "      <td>2.6</td>\n",
              "      <td>1</td>\n",
              "      <td>2</td>\n",
              "      <td>3</td>\n",
              "      <td>0</td>\n",
              "    </tr>\n",
              "    <tr>\n",
              "      <th>167</th>\n",
              "      <td>62</td>\n",
              "      <td>0</td>\n",
              "      <td>0</td>\n",
              "      <td>140</td>\n",
              "      <td>268</td>\n",
              "      <td>0</td>\n",
              "      <td>0</td>\n",
              "      <td>160</td>\n",
              "      <td>0</td>\n",
              "      <td>3.6</td>\n",
              "      <td>0</td>\n",
              "      <td>2</td>\n",
              "      <td>2</td>\n",
              "      <td>0</td>\n",
              "    </tr>\n",
              "    <tr>\n",
              "      <th>168</th>\n",
              "      <td>63</td>\n",
              "      <td>1</td>\n",
              "      <td>0</td>\n",
              "      <td>130</td>\n",
              "      <td>254</td>\n",
              "      <td>0</td>\n",
              "      <td>0</td>\n",
              "      <td>147</td>\n",
              "      <td>0</td>\n",
              "      <td>1.4</td>\n",
              "      <td>1</td>\n",
              "      <td>1</td>\n",
              "      <td>3</td>\n",
              "      <td>0</td>\n",
              "    </tr>\n",
              "    <tr>\n",
              "      <th>169</th>\n",
              "      <td>53</td>\n",
              "      <td>1</td>\n",
              "      <td>0</td>\n",
              "      <td>140</td>\n",
              "      <td>203</td>\n",
              "      <td>1</td>\n",
              "      <td>0</td>\n",
              "      <td>155</td>\n",
              "      <td>1</td>\n",
              "      <td>3.1</td>\n",
              "      <td>0</td>\n",
              "      <td>0</td>\n",
              "      <td>3</td>\n",
              "      <td>0</td>\n",
              "    </tr>\n",
              "  </tbody>\n",
              "</table>\n",
              "</div>\n",
              "      <button class=\"colab-df-convert\" onclick=\"convertToInteractive('df-d3217c7e-3eac-4254-85d8-e0805aee523b')\"\n",
              "              title=\"Convert this dataframe to an interactive table.\"\n",
              "              style=\"display:none;\">\n",
              "        \n",
              "  <svg xmlns=\"http://www.w3.org/2000/svg\" height=\"24px\"viewBox=\"0 0 24 24\"\n",
              "       width=\"24px\">\n",
              "    <path d=\"M0 0h24v24H0V0z\" fill=\"none\"/>\n",
              "    <path d=\"M18.56 5.44l.94 2.06.94-2.06 2.06-.94-2.06-.94-.94-2.06-.94 2.06-2.06.94zm-11 1L8.5 8.5l.94-2.06 2.06-.94-2.06-.94L8.5 2.5l-.94 2.06-2.06.94zm10 10l.94 2.06.94-2.06 2.06-.94-2.06-.94-.94-2.06-.94 2.06-2.06.94z\"/><path d=\"M17.41 7.96l-1.37-1.37c-.4-.4-.92-.59-1.43-.59-.52 0-1.04.2-1.43.59L10.3 9.45l-7.72 7.72c-.78.78-.78 2.05 0 2.83L4 21.41c.39.39.9.59 1.41.59.51 0 1.02-.2 1.41-.59l7.78-7.78 2.81-2.81c.8-.78.8-2.07 0-2.86zM5.41 20L4 18.59l7.72-7.72 1.47 1.35L5.41 20z\"/>\n",
              "  </svg>\n",
              "      </button>\n",
              "      \n",
              "  <style>\n",
              "    .colab-df-container {\n",
              "      display:flex;\n",
              "      flex-wrap:wrap;\n",
              "      gap: 12px;\n",
              "    }\n",
              "\n",
              "    .colab-df-convert {\n",
              "      background-color: #E8F0FE;\n",
              "      border: none;\n",
              "      border-radius: 50%;\n",
              "      cursor: pointer;\n",
              "      display: none;\n",
              "      fill: #1967D2;\n",
              "      height: 32px;\n",
              "      padding: 0 0 0 0;\n",
              "      width: 32px;\n",
              "    }\n",
              "\n",
              "    .colab-df-convert:hover {\n",
              "      background-color: #E2EBFA;\n",
              "      box-shadow: 0px 1px 2px rgba(60, 64, 67, 0.3), 0px 1px 3px 1px rgba(60, 64, 67, 0.15);\n",
              "      fill: #174EA6;\n",
              "    }\n",
              "\n",
              "    [theme=dark] .colab-df-convert {\n",
              "      background-color: #3B4455;\n",
              "      fill: #D2E3FC;\n",
              "    }\n",
              "\n",
              "    [theme=dark] .colab-df-convert:hover {\n",
              "      background-color: #434B5C;\n",
              "      box-shadow: 0px 1px 3px 1px rgba(0, 0, 0, 0.15);\n",
              "      filter: drop-shadow(0px 1px 2px rgba(0, 0, 0, 0.3));\n",
              "      fill: #FFFFFF;\n",
              "    }\n",
              "  </style>\n",
              "\n",
              "      <script>\n",
              "        const buttonEl =\n",
              "          document.querySelector('#df-d3217c7e-3eac-4254-85d8-e0805aee523b button.colab-df-convert');\n",
              "        buttonEl.style.display =\n",
              "          google.colab.kernel.accessAllowed ? 'block' : 'none';\n",
              "\n",
              "        async function convertToInteractive(key) {\n",
              "          const element = document.querySelector('#df-d3217c7e-3eac-4254-85d8-e0805aee523b');\n",
              "          const dataTable =\n",
              "            await google.colab.kernel.invokeFunction('convertToInteractive',\n",
              "                                                     [key], {});\n",
              "          if (!dataTable) return;\n",
              "\n",
              "          const docLinkHtml = 'Like what you see? Visit the ' +\n",
              "            '<a target=\"_blank\" href=https://colab.research.google.com/notebooks/data_table.ipynb>data table notebook</a>'\n",
              "            + ' to learn more about interactive tables.';\n",
              "          element.innerHTML = '';\n",
              "          dataTable['output_type'] = 'display_data';\n",
              "          await google.colab.output.renderOutput(dataTable, element);\n",
              "          const docLink = document.createElement('div');\n",
              "          docLink.innerHTML = docLinkHtml;\n",
              "          element.appendChild(docLink);\n",
              "        }\n",
              "      </script>\n",
              "    </div>\n",
              "  </div>\n",
              "  "
            ],
            "text/plain": [
              "     age  sex  cp  trestbps  chol  fbs  ...  exang  oldpeak  slope  ca  thal  target\n",
              "165   67    1   0       160   286    0  ...      1      1.5      1   3     2       0\n",
              "166   67    1   0       120   229    0  ...      1      2.6      1   2     3       0\n",
              "167   62    0   0       140   268    0  ...      0      3.6      0   2     2       0\n",
              "168   63    1   0       130   254    0  ...      0      1.4      1   1     3       0\n",
              "169   53    1   0       140   203    1  ...      1      3.1      0   0     3       0\n",
              "\n",
              "[5 rows x 14 columns]"
            ]
          },
          "metadata": {},
          "execution_count": 17
        }
      ]
    },
    {
      "cell_type": "code",
      "source": [
        "up_sampled=resample(healthy, replace=True, n_samples=len(unhealthy), random_state=42)"
      ],
      "metadata": {
        "id": "UVz6fD43OgQ4"
      },
      "execution_count": null,
      "outputs": []
    },
    {
      "cell_type": "code",
      "source": [
        "up_sampled=pd.concat([unhealthy, up_sampled])\n",
        "#check updated class counts\n",
        "up_sampled['target'].value_counts()"
      ],
      "metadata": {
        "colab": {
          "base_uri": "https://localhost:8080/"
        },
        "id": "AG6jVa_9OmKB",
        "outputId": "baa72105-1c74-4dbe-ddbc-1668ba22215a"
      },
      "execution_count": null,
      "outputs": [
        {
          "output_type": "execute_result",
          "data": {
            "text/plain": [
              "1    165\n",
              "0    165\n",
              "Name: target, dtype: int64"
            ]
          },
          "metadata": {},
          "execution_count": 19
        }
      ]
    },
    {
      "cell_type": "code",
      "source": [
        "X1=up_sampled.drop(['target'],axis=1)\n",
        "y1=up_sampled['target']"
      ],
      "metadata": {
        "id": "T3W2trLXOsDz"
      },
      "execution_count": null,
      "outputs": []
    },
    {
      "cell_type": "code",
      "source": [
        "X1_train, X1_test, y1_train, y1_test = train_test_split(X1, y1,test_size=0.2, random_state=42)\n",
        "X1_train.shape, X1_test.shape,y1_train.shape, y1_test.shape"
      ],
      "metadata": {
        "colab": {
          "base_uri": "https://localhost:8080/"
        },
        "id": "X9vtiHFaO_JL",
        "outputId": "8cbb19ad-79e4-4b23-c13b-0e072571ba7f"
      },
      "execution_count": null,
      "outputs": [
        {
          "output_type": "execute_result",
          "data": {
            "text/plain": [
              "((264, 13), (66, 13), (264,), (66,))"
            ]
          },
          "metadata": {},
          "execution_count": 21
        }
      ]
    },
    {
      "cell_type": "code",
      "source": [
        "import autosklearn.classification\n",
        "automl = autosklearn.classification.AutoSklearnClassifier(\n",
        "time_left_for_this_task=5*60,per_run_time_limit=30,tmp_folder='/temp2/autosklearn_classification_example_tmp')\n",
        "automl.fit(X1_train, y1_train)"
      ],
      "metadata": {
        "colab": {
          "base_uri": "https://localhost:8080/"
        },
        "id": "6oCC3T3aPHUx",
        "outputId": "2ceaf461-2118-4e94-d77e-8d69ff58289d"
      },
      "execution_count": null,
      "outputs": [
        {
          "output_type": "execute_result",
          "data": {
            "text/plain": [
              "AutoSklearnClassifier(per_run_time_limit=30, time_left_for_this_task=300,\n",
              "                      tmp_folder='/temp2/autosklearn_classification_example_tmp')"
            ]
          },
          "metadata": {},
          "execution_count": 22
        }
      ]
    },
    {
      "cell_type": "code",
      "source": [
        "pprint(automl.sprint_statistics())"
      ],
      "metadata": {
        "colab": {
          "base_uri": "https://localhost:8080/"
        },
        "id": "DQJjqCXQPYoE",
        "outputId": "4a627f06-3471-4d53-9061-3cf0f5a86c13"
      },
      "execution_count": null,
      "outputs": [
        {
          "output_type": "stream",
          "name": "stdout",
          "text": [
            "('auto-sklearn results:\\n'\n",
            " '  Dataset name: 91bb1866-81e6-11ec-9d18-0242ac1c0002\\n'\n",
            " '  Metric: accuracy\\n'\n",
            " '  Best validation score: 0.875000\\n'\n",
            " '  Number of target algorithm runs: 77\\n'\n",
            " '  Number of successful target algorithm runs: 77\\n'\n",
            " '  Number of crashed target algorithm runs: 0\\n'\n",
            " '  Number of target algorithms that exceeded the time limit: 0\\n'\n",
            " '  Number of target algorithms that exceeded the memory limit: 0\\n')\n"
          ]
        }
      ]
    },
    {
      "cell_type": "code",
      "source": [
        "print(automl.leaderboard())"
      ],
      "metadata": {
        "colab": {
          "base_uri": "https://localhost:8080/"
        },
        "id": "QrkbNqJVPOHz",
        "outputId": "85cf6853-e0cc-4b25-e2b8-65221c676720"
      },
      "execution_count": null,
      "outputs": [
        {
          "output_type": "stream",
          "name": "stdout",
          "text": [
            "          rank  ensemble_weight                 type      cost  duration\n",
            "model_id                                                                \n",
            "12           1             0.04    gradient_boosting  0.125000  1.298650\n",
            "2            2             0.02        random_forest  0.136364  1.647419\n",
            "10           3             0.04    gradient_boosting  0.136364  1.117335\n",
            "22           4             0.04          extra_trees  0.136364  1.975416\n",
            "5            5             0.02        random_forest  0.147727  1.786416\n",
            "73           6             0.04          extra_trees  0.147727  1.848646\n",
            "68           7             0.04          extra_trees  0.147727  1.621835\n",
            "17           8             0.04             adaboost  0.147727  1.291294\n",
            "24           9             0.06             adaboost  0.147727  1.605762\n",
            "45          10             0.04                  lda  0.147727  1.184076\n",
            "57          11             0.02          gaussian_nb  0.159091  1.354492\n",
            "30          12             0.02    gradient_boosting  0.159091  1.412616\n",
            "26          13             0.06          extra_trees  0.159091  1.591879\n",
            "56          14             0.10                  sgd  0.170455  1.084521\n",
            "65          15             0.06             adaboost  0.170455  1.100934\n",
            "74          16             0.02             adaboost  0.170455  1.073658\n",
            "33          17             0.04                  lda  0.181818  1.175418\n",
            "16          18             0.02        random_forest  0.181818  1.657700\n",
            "14          19             0.02   passive_aggressive  0.181818  0.957832\n",
            "76          20             0.02    gradient_boosting  0.181818  1.021636\n",
            "54          21             0.10             adaboost  0.193182  1.074120\n",
            "66          22             0.08  k_nearest_neighbors  0.193182  0.962524\n",
            "32          23             0.02        random_forest  0.215909  1.955687\n",
            "20          24             0.04        random_forest  0.215909  1.983905\n"
          ]
        }
      ]
    },
    {
      "cell_type": "code",
      "source": [
        "pprint(automl.show_models())"
      ],
      "metadata": {
        "colab": {
          "base_uri": "https://localhost:8080/"
        },
        "id": "Z4-uxmxQPUg0",
        "outputId": "8600a732-17c2-4a0f-faa7-9e522ff2af91"
      },
      "execution_count": null,
      "outputs": [
        {
          "output_type": "stream",
          "name": "stdout",
          "text": [
            "{2: {'balancing': Balancing(random_state=1),\n",
            "     'classifier': <autosklearn.pipeline.components.classification.ClassifierChoice object at 0x7fdf8d64b390>,\n",
            "     'cost': 0.13636363636363635,\n",
            "     'data_preprocessor': <autosklearn.pipeline.components.data_preprocessing.DataPreprocessorChoice object at 0x7fdf8d9532d0>,\n",
            "     'ensemble_weight': 0.02,\n",
            "     'feature_preprocessor': <autosklearn.pipeline.components.feature_preprocessing.FeaturePreprocessorChoice object at 0x7fdf8d64b1d0>,\n",
            "     'model_id': 2,\n",
            "     'rank': 2,\n",
            "     'sklearn_classifier': RandomForestClassifier(max_features=3, n_estimators=512, n_jobs=1,\n",
            "                       random_state=1, warm_start=True)},\n",
            " 5: {'balancing': Balancing(random_state=1),\n",
            "     'classifier': <autosklearn.pipeline.components.classification.ClassifierChoice object at 0x7fdf8db569d0>,\n",
            "     'cost': 0.1477272727272727,\n",
            "     'data_preprocessor': <autosklearn.pipeline.components.data_preprocessing.DataPreprocessorChoice object at 0x7fdf8db72b50>,\n",
            "     'ensemble_weight': 0.02,\n",
            "     'feature_preprocessor': <autosklearn.pipeline.components.feature_preprocessing.FeaturePreprocessorChoice object at 0x7fdf8da9c990>,\n",
            "     'model_id': 5,\n",
            "     'rank': 5,\n",
            "     'sklearn_classifier': RandomForestClassifier(criterion='entropy', max_features=16, n_estimators=512,\n",
            "                       n_jobs=1, random_state=1, warm_start=True)},\n",
            " 10: {'balancing': Balancing(random_state=1),\n",
            "      'classifier': <autosklearn.pipeline.components.classification.ClassifierChoice object at 0x7fdf8dbba310>,\n",
            "      'cost': 0.13636363636363635,\n",
            "      'data_preprocessor': <autosklearn.pipeline.components.data_preprocessing.DataPreprocessorChoice object at 0x7fdf8db50c90>,\n",
            "      'ensemble_weight': 0.04,\n",
            "      'feature_preprocessor': <autosklearn.pipeline.components.feature_preprocessing.FeaturePreprocessorChoice object at 0x7fdf8dbbad50>,\n",
            "      'model_id': 10,\n",
            "      'rank': 3,\n",
            "      'sklearn_classifier': HistGradientBoostingClassifier(early_stopping=False, l2_regularization=1e-10,\n",
            "                               learning_rate=0.16262682406125173, max_iter=512,\n",
            "                               max_leaf_nodes=66, n_iter_no_change=0,\n",
            "                               random_state=1, validation_fraction=None,\n",
            "                               warm_start=True)},\n",
            " 12: {'balancing': Balancing(random_state=1, strategy='weighting'),\n",
            "      'classifier': <autosklearn.pipeline.components.classification.ClassifierChoice object at 0x7fdf9644f090>,\n",
            "      'cost': 0.125,\n",
            "      'data_preprocessor': <autosklearn.pipeline.components.data_preprocessing.DataPreprocessorChoice object at 0x7fdf96496610>,\n",
            "      'ensemble_weight': 0.04,\n",
            "      'feature_preprocessor': <autosklearn.pipeline.components.feature_preprocessing.FeaturePreprocessorChoice object at 0x7fdf964b3710>,\n",
            "      'model_id': 12,\n",
            "      'rank': 1,\n",
            "      'sklearn_classifier': HistGradientBoostingClassifier(early_stopping=False,\n",
            "                               l2_regularization=1.0647401999412075e-10,\n",
            "                               learning_rate=0.08291320147381159, max_iter=512,\n",
            "                               max_leaf_nodes=39, n_iter_no_change=0,\n",
            "                               random_state=1, validation_fraction=None,\n",
            "                               warm_start=True)},\n",
            " 14: {'balancing': Balancing(random_state=1, strategy='weighting'),\n",
            "      'classifier': <autosklearn.pipeline.components.classification.ClassifierChoice object at 0x7fdf8aaaa4d0>,\n",
            "      'cost': 0.18181818181818177,\n",
            "      'data_preprocessor': <autosklearn.pipeline.components.data_preprocessing.DataPreprocessorChoice object at 0x7fdf8ad7a9d0>,\n",
            "      'ensemble_weight': 0.02,\n",
            "      'feature_preprocessor': <autosklearn.pipeline.components.feature_preprocessing.FeaturePreprocessorChoice object at 0x7fdf8aa98f50>,\n",
            "      'model_id': 14,\n",
            "      'rank': 17,\n",
            "      'sklearn_classifier': PassiveAggressiveClassifier(C=0.14833233294431605, average=True,\n",
            "                            loss='squared_hinge', max_iter=64, random_state=1,\n",
            "                            tol=0.00016482166646253793, warm_start=True)},\n",
            " 16: {'balancing': Balancing(random_state=1),\n",
            "      'classifier': <autosklearn.pipeline.components.classification.ClassifierChoice object at 0x7fdf8a91ce90>,\n",
            "      'cost': 0.18181818181818177,\n",
            "      'data_preprocessor': <autosklearn.pipeline.components.data_preprocessing.DataPreprocessorChoice object at 0x7fdf8ac17310>,\n",
            "      'ensemble_weight': 0.02,\n",
            "      'feature_preprocessor': <autosklearn.pipeline.components.feature_preprocessing.FeaturePreprocessorChoice object at 0x7fdf8a91ccd0>,\n",
            "      'model_id': 16,\n",
            "      'rank': 18,\n",
            "      'sklearn_classifier': RandomForestClassifier(criterion='entropy', max_features=10, min_samples_leaf=7,\n",
            "                       n_estimators=512, n_jobs=1, random_state=1,\n",
            "                       warm_start=True)},\n",
            " 17: {'balancing': Balancing(random_state=1),\n",
            "      'classifier': <autosklearn.pipeline.components.classification.ClassifierChoice object at 0x7fdf8db67250>,\n",
            "      'cost': 0.1477272727272727,\n",
            "      'data_preprocessor': <autosklearn.pipeline.components.data_preprocessing.DataPreprocessorChoice object at 0x7fdf8da97e10>,\n",
            "      'ensemble_weight': 0.04,\n",
            "      'feature_preprocessor': <autosklearn.pipeline.components.feature_preprocessing.FeaturePreprocessorChoice object at 0x7fdf8db67f10>,\n",
            "      'model_id': 17,\n",
            "      'rank': 6,\n",
            "      'sklearn_classifier': AdaBoostClassifier(algorithm='SAMME',\n",
            "                   base_estimator=DecisionTreeClassifier(max_depth=2),\n",
            "                   learning_rate=0.13167493237005792, n_estimators=56,\n",
            "                   random_state=1)},\n",
            " 20: {'balancing': Balancing(random_state=1, strategy='weighting'),\n",
            "      'classifier': <autosklearn.pipeline.components.classification.ClassifierChoice object at 0x7fdf8a0d6290>,\n",
            "      'cost': 0.21590909090909094,\n",
            "      'data_preprocessor': <autosklearn.pipeline.components.data_preprocessing.DataPreprocessorChoice object at 0x7fdf8a8a7b50>,\n",
            "      'ensemble_weight': 0.04,\n",
            "      'feature_preprocessor': <autosklearn.pipeline.components.feature_preprocessing.FeaturePreprocessorChoice object at 0x7fdf8a0b50d0>,\n",
            "      'model_id': 20,\n",
            "      'rank': 23,\n",
            "      'sklearn_classifier': RandomForestClassifier(max_features=2, min_samples_leaf=2, n_estimators=512,\n",
            "                       n_jobs=1, random_state=1, warm_start=True)},\n",
            " 22: {'balancing': Balancing(random_state=1, strategy='weighting'),\n",
            "      'classifier': <autosklearn.pipeline.components.classification.ClassifierChoice object at 0x7fdf8daabc50>,\n",
            "      'cost': 0.13636363636363635,\n",
            "      'data_preprocessor': <autosklearn.pipeline.components.data_preprocessing.DataPreprocessorChoice object at 0x7fdf8db660d0>,\n",
            "      'ensemble_weight': 0.04,\n",
            "      'feature_preprocessor': <autosklearn.pipeline.components.feature_preprocessing.FeaturePreprocessorChoice object at 0x7fdf8daab6d0>,\n",
            "      'model_id': 22,\n",
            "      'rank': 4,\n",
            "      'sklearn_classifier': ExtraTreesClassifier(criterion='entropy', max_features=89, min_samples_leaf=2,\n",
            "                     min_samples_split=20, n_estimators=512, n_jobs=1,\n",
            "                     random_state=1, warm_start=True)},\n",
            " 24: {'balancing': Balancing(random_state=1, strategy='weighting'),\n",
            "      'classifier': <autosklearn.pipeline.components.classification.ClassifierChoice object at 0x7fdf8c06a990>,\n",
            "      'cost': 0.1477272727272727,\n",
            "      'data_preprocessor': <autosklearn.pipeline.components.data_preprocessing.DataPreprocessorChoice object at 0x7fdf8d626190>,\n",
            "      'ensemble_weight': 0.06,\n",
            "      'feature_preprocessor': <autosklearn.pipeline.components.feature_preprocessing.FeaturePreprocessorChoice object at 0x7fdf8c06a210>,\n",
            "      'model_id': 24,\n",
            "      'rank': 7,\n",
            "      'sklearn_classifier': AdaBoostClassifier(algorithm='SAMME',\n",
            "                   base_estimator=DecisionTreeClassifier(max_depth=2),\n",
            "                   learning_rate=0.03734246906377268, n_estimators=416,\n",
            "                   random_state=1)},\n",
            " 26: {'balancing': Balancing(random_state=1),\n",
            "      'classifier': <autosklearn.pipeline.components.classification.ClassifierChoice object at 0x7fdf8baea590>,\n",
            "      'cost': 0.15909090909090906,\n",
            "      'data_preprocessor': <autosklearn.pipeline.components.data_preprocessing.DataPreprocessorChoice object at 0x7fdf8d6fc450>,\n",
            "      'ensemble_weight': 0.06,\n",
            "      'feature_preprocessor': <autosklearn.pipeline.components.feature_preprocessing.FeaturePreprocessorChoice object at 0x7fdf8bae6e50>,\n",
            "      'model_id': 26,\n",
            "      'rank': 11,\n",
            "      'sklearn_classifier': ExtraTreesClassifier(max_features=3, min_samples_split=4, n_estimators=512,\n",
            "                     n_jobs=1, random_state=1, warm_start=True)},\n",
            " 30: {'balancing': Balancing(random_state=1, strategy='weighting'),\n",
            "      'classifier': <autosklearn.pipeline.components.classification.ClassifierChoice object at 0x7fdf8b766050>,\n",
            "      'cost': 0.15909090909090906,\n",
            "      'data_preprocessor': <autosklearn.pipeline.components.data_preprocessing.DataPreprocessorChoice object at 0x7fdf8bff03d0>,\n",
            "      'ensemble_weight': 0.02,\n",
            "      'feature_preprocessor': <autosklearn.pipeline.components.feature_preprocessing.FeaturePreprocessorChoice object at 0x7fdf8b761850>,\n",
            "      'model_id': 30,\n",
            "      'rank': 12,\n",
            "      'sklearn_classifier': HistGradientBoostingClassifier(early_stopping=True, l2_regularization=1e-10,\n",
            "                               learning_rate=0.10000000000000002, max_iter=512,\n",
            "                               max_leaf_nodes=25, min_samples_leaf=36,\n",
            "                               random_state=1, validation_fraction=None,\n",
            "                               warm_start=True)},\n",
            " 32: {'balancing': Balancing(random_state=1),\n",
            "      'classifier': <autosklearn.pipeline.components.classification.ClassifierChoice object at 0x7fdf8a892310>,\n",
            "      'cost': 0.21590909090909094,\n",
            "      'data_preprocessor': <autosklearn.pipeline.components.data_preprocessing.DataPreprocessorChoice object at 0x7fdf8a0f8ed0>,\n",
            "      'ensemble_weight': 0.02,\n",
            "      'feature_preprocessor': <autosklearn.pipeline.components.feature_preprocessing.FeaturePreprocessorChoice object at 0x7fdf8b3894d0>,\n",
            "      'model_id': 32,\n",
            "      'rank': 24,\n",
            "      'sklearn_classifier': RandomForestClassifier(criterion='entropy', max_features=1, min_samples_leaf=6,\n",
            "                       min_samples_split=14, n_estimators=512, n_jobs=1,\n",
            "                       random_state=1, warm_start=True)},\n",
            " 33: {'balancing': Balancing(random_state=1, strategy='weighting'),\n",
            "      'classifier': <autosklearn.pipeline.components.classification.ClassifierChoice object at 0x7fdf8a8b3f50>,\n",
            "      'cost': 0.18181818181818177,\n",
            "      'data_preprocessor': <autosklearn.pipeline.components.data_preprocessing.DataPreprocessorChoice object at 0x7fdf8a9c94d0>,\n",
            "      'ensemble_weight': 0.04,\n",
            "      'feature_preprocessor': <autosklearn.pipeline.components.feature_preprocessing.FeaturePreprocessorChoice object at 0x7fdf8a8b33d0>,\n",
            "      'model_id': 33,\n",
            "      'rank': 19,\n",
            "      'sklearn_classifier': LinearDiscriminantAnalysis(shrinkage=0.8768671692592822, solver='lsqr',\n",
            "                           tol=0.03660255743951706)},\n",
            " 45: {'balancing': Balancing(random_state=1, strategy='weighting'),\n",
            "      'classifier': <autosklearn.pipeline.components.classification.ClassifierChoice object at 0x7fdf8d590e10>,\n",
            "      'cost': 0.1477272727272727,\n",
            "      'data_preprocessor': <autosklearn.pipeline.components.data_preprocessing.DataPreprocessorChoice object at 0x7fdf8da9b890>,\n",
            "      'ensemble_weight': 0.04,\n",
            "      'feature_preprocessor': <autosklearn.pipeline.components.feature_preprocessing.FeaturePreprocessorChoice object at 0x7fdf8bfe8910>,\n",
            "      'model_id': 45,\n",
            "      'rank': 8,\n",
            "      'sklearn_classifier': LinearDiscriminantAnalysis(shrinkage='auto', solver='lsqr',\n",
            "                           tol=0.00010049539899228862)},\n",
            " 54: {'balancing': Balancing(random_state=1),\n",
            "      'classifier': <autosklearn.pipeline.components.classification.ClassifierChoice object at 0x7fdf8a895b50>,\n",
            "      'cost': 0.19318181818181823,\n",
            "      'data_preprocessor': <autosklearn.pipeline.components.data_preprocessing.DataPreprocessorChoice object at 0x7fdf8b7ac790>,\n",
            "      'ensemble_weight': 0.1,\n",
            "      'feature_preprocessor': <autosklearn.pipeline.components.feature_preprocessing.FeaturePreprocessorChoice object at 0x7fdf8a8896d0>,\n",
            "      'model_id': 54,\n",
            "      'rank': 21,\n",
            "      'sklearn_classifier': AdaBoostClassifier(algorithm='SAMME',\n",
            "                   base_estimator=DecisionTreeClassifier(max_depth=7),\n",
            "                   learning_rate=0.11648715462225022, n_estimators=56,\n",
            "                   random_state=1)},\n",
            " 56: {'balancing': Balancing(random_state=1),\n",
            "      'classifier': <autosklearn.pipeline.components.classification.ClassifierChoice object at 0x7fdf8b1c3e90>,\n",
            "      'cost': 0.17045454545454541,\n",
            "      'data_preprocessor': <autosklearn.pipeline.components.data_preprocessing.DataPreprocessorChoice object at 0x7fdf8b7617d0>,\n",
            "      'ensemble_weight': 0.1,\n",
            "      'feature_preprocessor': <autosklearn.pipeline.components.feature_preprocessing.FeaturePreprocessorChoice object at 0x7fdf8b1c3a90>,\n",
            "      'model_id': 56,\n",
            "      'rank': 14,\n",
            "      'sklearn_classifier': SGDClassifier(alpha=1.5177861886114437e-07, average=True,\n",
            "              eta0=0.0005073686261255891, learning_rate='constant',\n",
            "              loss='perceptron', max_iter=16, random_state=1,\n",
            "              tol=0.007752375155655826, warm_start=True)},\n",
            " 57: {'balancing': Balancing(random_state=1, strategy='weighting'),\n",
            "      'classifier': <autosklearn.pipeline.components.classification.ClassifierChoice object at 0x7fdf8b7a88d0>,\n",
            "      'cost': 0.15909090909090906,\n",
            "      'data_preprocessor': <autosklearn.pipeline.components.data_preprocessing.DataPreprocessorChoice object at 0x7fdf8b7502d0>,\n",
            "      'ensemble_weight': 0.02,\n",
            "      'feature_preprocessor': <autosklearn.pipeline.components.feature_preprocessing.FeaturePreprocessorChoice object at 0x7fdf8b7e2fd0>,\n",
            "      'model_id': 57,\n",
            "      'rank': 13,\n",
            "      'sklearn_classifier': GaussianNB()},\n",
            " 65: {'balancing': Balancing(random_state=1),\n",
            "      'classifier': <autosklearn.pipeline.components.classification.ClassifierChoice object at 0x7fdf8ade6ed0>,\n",
            "      'cost': 0.17045454545454541,\n",
            "      'data_preprocessor': <autosklearn.pipeline.components.data_preprocessing.DataPreprocessorChoice object at 0x7fdf8b7ee1d0>,\n",
            "      'ensemble_weight': 0.06,\n",
            "      'feature_preprocessor': <autosklearn.pipeline.components.feature_preprocessing.FeaturePreprocessorChoice object at 0x7fdf8ade6850>,\n",
            "      'model_id': 65,\n",
            "      'rank': 15,\n",
            "      'sklearn_classifier': AdaBoostClassifier(base_estimator=DecisionTreeClassifier(max_depth=2),\n",
            "                   learning_rate=0.11428355716515896, n_estimators=70,\n",
            "                   random_state=1)},\n",
            " 66: {'balancing': Balancing(random_state=1, strategy='weighting'),\n",
            "      'classifier': <autosklearn.pipeline.components.classification.ClassifierChoice object at 0x7fdf8a29ab90>,\n",
            "      'cost': 0.19318181818181823,\n",
            "      'data_preprocessor': <autosklearn.pipeline.components.data_preprocessing.DataPreprocessorChoice object at 0x7fdf8b741d90>,\n",
            "      'ensemble_weight': 0.08,\n",
            "      'feature_preprocessor': <autosklearn.pipeline.components.feature_preprocessing.FeaturePreprocessorChoice object at 0x7fdf8a29a9d0>,\n",
            "      'model_id': 66,\n",
            "      'rank': 22,\n",
            "      'sklearn_classifier': KNeighborsClassifier(n_neighbors=65, p=1, weights='distance')},\n",
            " 68: {'balancing': Balancing(random_state=1),\n",
            "      'classifier': <autosklearn.pipeline.components.classification.ClassifierChoice object at 0x7fdf8c017090>,\n",
            "      'cost': 0.1477272727272727,\n",
            "      'data_preprocessor': <autosklearn.pipeline.components.data_preprocessing.DataPreprocessorChoice object at 0x7fdf8d5ff2d0>,\n",
            "      'ensemble_weight': 0.04,\n",
            "      'feature_preprocessor': <autosklearn.pipeline.components.feature_preprocessing.FeaturePreprocessorChoice object at 0x7fdf8c013890>,\n",
            "      'model_id': 68,\n",
            "      'rank': 9,\n",
            "      'sklearn_classifier': ExtraTreesClassifier(bootstrap=True, criterion='entropy', max_features=5,\n",
            "                     min_samples_leaf=19, min_samples_split=8, n_estimators=512,\n",
            "                     n_jobs=1, random_state=1, warm_start=True)},\n",
            " 73: {'balancing': Balancing(random_state=1, strategy='weighting'),\n",
            "      'classifier': <autosklearn.pipeline.components.classification.ClassifierChoice object at 0x7fdf8c013b10>,\n",
            "      'cost': 0.1477272727272727,\n",
            "      'data_preprocessor': <autosklearn.pipeline.components.data_preprocessing.DataPreprocessorChoice object at 0x7fdf8d6e9390>,\n",
            "      'ensemble_weight': 0.04,\n",
            "      'feature_preprocessor': <autosklearn.pipeline.components.feature_preprocessing.FeaturePreprocessorChoice object at 0x7fdf8c00acd0>,\n",
            "      'model_id': 73,\n",
            "      'rank': 10,\n",
            "      'sklearn_classifier': ExtraTreesClassifier(bootstrap=True, criterion='entropy', max_features=39,\n",
            "                     min_samples_leaf=14, min_samples_split=14,\n",
            "                     n_estimators=512, n_jobs=1, random_state=1,\n",
            "                     warm_start=True)},\n",
            " 74: {'balancing': Balancing(random_state=1),\n",
            "      'classifier': <autosklearn.pipeline.components.classification.ClassifierChoice object at 0x7fdf8ac0d890>,\n",
            "      'cost': 0.17045454545454541,\n",
            "      'data_preprocessor': <autosklearn.pipeline.components.data_preprocessing.DataPreprocessorChoice object at 0x7fdf8adb6a10>,\n",
            "      'ensemble_weight': 0.02,\n",
            "      'feature_preprocessor': <autosklearn.pipeline.components.feature_preprocessing.FeaturePreprocessorChoice object at 0x7fdf8ac0d6d0>,\n",
            "      'model_id': 74,\n",
            "      'rank': 16,\n",
            "      'sklearn_classifier': AdaBoostClassifier(algorithm='SAMME',\n",
            "                   base_estimator=DecisionTreeClassifier(max_depth=1),\n",
            "                   learning_rate=0.10000000000000002, n_estimators=62,\n",
            "                   random_state=1)},\n",
            " 76: {'balancing': Balancing(random_state=1, strategy='weighting'),\n",
            "      'classifier': <autosklearn.pipeline.components.classification.ClassifierChoice object at 0x7fdf8b73ced0>,\n",
            "      'cost': 0.18181818181818177,\n",
            "      'data_preprocessor': <autosklearn.pipeline.components.data_preprocessing.DataPreprocessorChoice object at 0x7fdf8a92f890>,\n",
            "      'ensemble_weight': 0.02,\n",
            "      'feature_preprocessor': <autosklearn.pipeline.components.feature_preprocessing.FeaturePreprocessorChoice object at 0x7fdf8b73c910>,\n",
            "      'model_id': 76,\n",
            "      'rank': 20,\n",
            "      'sklearn_classifier': HistGradientBoostingClassifier(early_stopping=True,\n",
            "                               l2_regularization=2.964164700061816e-09,\n",
            "                               learning_rate=0.9240329200587364, max_iter=8,\n",
            "                               max_leaf_nodes=114, min_samples_leaf=8,\n",
            "                               n_iter_no_change=1, random_state=1,\n",
            "                               validation_fraction=0.08950120560999207,\n",
            "                               warm_start=True)}}\n"
          ]
        }
      ]
    },
    {
      "cell_type": "code",
      "source": [
        "automl.score(X1_train, y1_train)"
      ],
      "metadata": {
        "colab": {
          "base_uri": "https://localhost:8080/"
        },
        "id": "93myN4irRUlP",
        "outputId": "bdc92321-c3f8-4c44-a1f0-a80c51ede185"
      },
      "execution_count": null,
      "outputs": [
        {
          "output_type": "execute_result",
          "data": {
            "text/plain": [
              "0.9659090909090909"
            ]
          },
          "metadata": {},
          "execution_count": 26
        }
      ]
    },
    {
      "cell_type": "code",
      "source": [
        "automl.score(X1_test, y1_test)"
      ],
      "metadata": {
        "colab": {
          "base_uri": "https://localhost:8080/"
        },
        "id": "NOYAKj1kReMU",
        "outputId": "bdc29ef6-86b3-49f4-cc7f-07fecd95f513"
      },
      "execution_count": null,
      "outputs": [
        {
          "output_type": "execute_result",
          "data": {
            "text/plain": [
              "0.8484848484848485"
            ]
          },
          "metadata": {},
          "execution_count": 27
        }
      ]
    },
    {
      "cell_type": "code",
      "source": [
        "# Score of the final ensemble\n",
        "from sklearn.metrics import confusion_matrix, accuracy_score\n",
        "y1_pred= automl.predict(X1_test)\n",
        "conf_matrix= confusion_matrix(y1_pred, y1_test)\n",
        "sns.heatmap(conf_matrix, annot=True)"
      ],
      "metadata": {
        "colab": {
          "base_uri": "https://localhost:8080/",
          "height": 283
        },
        "id": "ROLpcKYaRlbG",
        "outputId": "6e4726b0-56a1-4a49-8864-3bdf0e8cd64a"
      },
      "execution_count": null,
      "outputs": [
        {
          "output_type": "execute_result",
          "data": {
            "text/plain": [
              "<matplotlib.axes._subplots.AxesSubplot at 0x7fdf8a89e090>"
            ]
          },
          "metadata": {},
          "execution_count": 28
        },
        {
          "output_type": "display_data",
          "data": {
            "image/png": "[encoded data removed]",
            "text/plain": [
              "<Figure size 432x288 with 2 Axes>"
            ]
          },
          "metadata": {
            "needs_background": "light"
          }
        }
      ]
    },
    {
      "cell_type": "code",
      "source": [
        "from sklearn.metrics import accuracy_score\n",
        "m2_acc_score= accuracy_score(y1_test, y1_pred)\n",
        "m2_acc_score"
      ],
      "metadata": {
        "colab": {
          "base_uri": "https://localhost:8080/"
        },
        "id": "VRr3xtX2VByA",
        "outputId": "a991d751-b0f8-42e0-b731-474889ae5eb6"
      },
      "execution_count": null,
      "outputs": [
        {
          "output_type": "execute_result",
          "data": {
            "text/plain": [
              "0.8484848484848485"
            ]
          },
          "metadata": {},
          "execution_count": 29
        }
      ]
    },
    {
      "cell_type": "code",
      "source": [
        "model_eval = pd.DataFrame({'Model': ['skewed','adjusted'], 'Accuracy': [m1_acc_score,\n",
        "                    m2_acc_score]})\n",
        "model_eval = model_eval.set_index('Model').sort_values(by='Accuracy',ascending=False)\n",
        "fig = plt.figure(figsize=(20, 4))\n",
        "gs = fig.add_gridspec(1, 2)\n",
        "gs.update(wspace=0.6, hspace=0.6)\n",
        "ax0 = fig.add_subplot(gs[0, 0])\n",
        "sns.heatmap(model_eval,cmap=\"PiYG\",annot=True,fmt=\".1%\", linewidths=4,cbar=False,ax=ax0)\n",
        "plt.show()"
      ],
      "metadata": {
        "colab": {
          "base_uri": "https://localhost:8080/",
          "height": 265
        },
        "id": "hPykr_aQSanD",
        "outputId": "3c94bf31-94ce-437e-cac1-1978498e1a01"
      },
      "execution_count": null,
      "outputs": [
        {
          "output_type": "display_data",
          "data": {
            "image/png": "[encoded data removed]",
            "text/plain": [
              "<Figure size 1440x288 with 1 Axes>"
            ]
          },
          "metadata": {
            "needs_background": "light"
          }
        }
      ]
    },
    {
      "cell_type": "code",
      "source": [
        "import pickle\n",
        "# save the model \n",
        "filename = 'final_model.sav' \n",
        "pickle.dump(automl, open(filename, 'wb'))"
      ],
      "metadata": {
        "id": "9BNR6COTsRrp"
      },
      "execution_count": null,
      "outputs": []
    },
    {
      "cell_type": "code",
      "source": [
        "#load the model\n",
        "loaded_model = pickle.load(open(filename, 'rb'))\n",
        "result = loaded_model.score(X_test, y_test)\n",
        "print(result)"
      ],
      "metadata": {
        "colab": {
          "base_uri": "https://localhost:8080/"
        },
        "id": "cwiGyn4DtyFz",
        "outputId": "9e835ca9-a78c-4cd1-fbc1-5a5e9e3be4e1"
      },
      "execution_count": null,
      "outputs": [
        {
          "output_type": "stream",
          "name": "stdout",
          "text": [
            "0.8852459016393442\n"
          ]
        }
      ]
    },
    {
      "cell_type": "code",
      "source": [
        "import joblib\n",
        "# save the model \n",
        "filename = 'final_model.sav'\n",
        "joblib.dump(automl, filename)\n"
      ],
      "metadata": {
        "colab": {
          "base_uri": "https://localhost:8080/"
        },
        "id": "wkLUrfIoSxhh",
        "outputId": "30ef9016-f6b4-4d62-e6ed-52aa8cadfe1b"
      },
      "execution_count": null,
      "outputs": [
        {
          "output_type": "execute_result",
          "data": {
            "text/plain": [
              "['final_model.sav']"
            ]
          },
          "metadata": {},
          "execution_count": 41
        }
      ]
    }
  ]
}