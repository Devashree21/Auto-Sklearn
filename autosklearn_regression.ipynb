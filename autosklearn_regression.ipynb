{
  "nbformat": 4,
  "nbformat_minor": 0,
  "metadata": {
    "colab": {
      "name": "autosklearn_AV_regression_working",
      "provenance": [],
      "collapsed_sections": []
    },
    "kernelspec": {
      "name": "python3",
      "display_name": "Python 3"
    },
    "language_info": {
      "name": "python"
    }
  },
  "cells": [
    {
      "cell_type": "code",
      "source": [
        "pip install auto-sklearn"
      ],
      "metadata": {
        "id": "AnjkWSEauP_k"
      },
      "execution_count": null,
      "outputs": []
    },
    {
      "cell_type": "code",
      "execution_count": null,
      "metadata": {
        "id": "1LXeDWtBi8RI"
      },
      "outputs": [],
      "source": [
        "import pandas as pd\n",
        "import numpy as np\n",
        "import matplotlib.pyplot as plt\n",
        "import seaborn as sns\n",
        "from sklearn.model_selection import train_test_split\n",
        "from pprint import pprint"
      ]
    },
    {
      "cell_type": "markdown",
      "source": [
        "# **Regression Task using Flights dataset from Seaborn**"
      ],
      "metadata": {
        "id": "1kXGROFKzjv8"
      }
    },
    {
      "cell_type": "code",
      "source": [
        "#loading the dataset\n",
        "df = sns.load_dataset('flights')\n",
        "df.head()"
      ],
      "metadata": {
        "colab": {
          "base_uri": "https://localhost:8080/",
          "height": 206
        },
        "id": "hS_Slst76K0G",
        "outputId": "20faf4e1-8b72-4c54-cb08-6e118557d781"
      },
      "execution_count": null,
      "outputs": [
        {
          "output_type": "execute_result",
          "data": {
            "text/html": [
              "\n",
              "  <div id=\"df-77089690-b8df-47e9-b160-d43c8e4d5666\">\n",
              "    <div class=\"colab-df-container\">\n",
              "      <div>\n",
              "<style scoped>\n",
              "    .dataframe tbody tr th:only-of-type {\n",
              "        vertical-align: middle;\n",
              "    }\n",
              "\n",
              "    .dataframe tbody tr th {\n",
              "        vertical-align: top;\n",
              "    }\n",
              "\n",
              "    .dataframe thead th {\n",
              "        text-align: right;\n",
              "    }\n",
              "</style>\n",
              "<table border=\"1\" class=\"dataframe\">\n",
              "  <thead>\n",
              "    <tr style=\"text-align: right;\">\n",
              "      <th></th>\n",
              "      <th>year</th>\n",
              "      <th>month</th>\n",
              "      <th>passengers</th>\n",
              "    </tr>\n",
              "  </thead>\n",
              "  <tbody>\n",
              "    <tr>\n",
              "      <th>0</th>\n",
              "      <td>1949</td>\n",
              "      <td>Jan</td>\n",
              "      <td>112</td>\n",
              "    </tr>\n",
              "    <tr>\n",
              "      <th>1</th>\n",
              "      <td>1949</td>\n",
              "      <td>Feb</td>\n",
              "      <td>118</td>\n",
              "    </tr>\n",
              "    <tr>\n",
              "      <th>2</th>\n",
              "      <td>1949</td>\n",
              "      <td>Mar</td>\n",
              "      <td>132</td>\n",
              "    </tr>\n",
              "    <tr>\n",
              "      <th>3</th>\n",
              "      <td>1949</td>\n",
              "      <td>Apr</td>\n",
              "      <td>129</td>\n",
              "    </tr>\n",
              "    <tr>\n",
              "      <th>4</th>\n",
              "      <td>1949</td>\n",
              "      <td>May</td>\n",
              "      <td>121</td>\n",
              "    </tr>\n",
              "  </tbody>\n",
              "</table>\n",
              "</div>\n",
              "      <button class=\"colab-df-convert\" onclick=\"convertToInteractive('df-77089690-b8df-47e9-b160-d43c8e4d5666')\"\n",
              "              title=\"Convert this dataframe to an interactive table.\"\n",
              "              style=\"display:none;\">\n",
              "        \n",
              "  <svg xmlns=\"http://www.w3.org/2000/svg\" height=\"24px\"viewBox=\"0 0 24 24\"\n",
              "       width=\"24px\">\n",
              "    <path d=\"M0 0h24v24H0V0z\" fill=\"none\"/>\n",
              "    <path d=\"M18.56 5.44l.94 2.06.94-2.06 2.06-.94-2.06-.94-.94-2.06-.94 2.06-2.06.94zm-11 1L8.5 8.5l.94-2.06 2.06-.94-2.06-.94L8.5 2.5l-.94 2.06-2.06.94zm10 10l.94 2.06.94-2.06 2.06-.94-2.06-.94-.94-2.06-.94 2.06-2.06.94z\"/><path d=\"M17.41 7.96l-1.37-1.37c-.4-.4-.92-.59-1.43-.59-.52 0-1.04.2-1.43.59L10.3 9.45l-7.72 7.72c-.78.78-.78 2.05 0 2.83L4 21.41c.39.39.9.59 1.41.59.51 0 1.02-.2 1.41-.59l7.78-7.78 2.81-2.81c.8-.78.8-2.07 0-2.86zM5.41 20L4 18.59l7.72-7.72 1.47 1.35L5.41 20z\"/>\n",
              "  </svg>\n",
              "      </button>\n",
              "      \n",
              "  <style>\n",
              "    .colab-df-container {\n",
              "      display:flex;\n",
              "      flex-wrap:wrap;\n",
              "      gap: 12px;\n",
              "    }\n",
              "\n",
              "    .colab-df-convert {\n",
              "      background-color: #E8F0FE;\n",
              "      border: none;\n",
              "      border-radius: 50%;\n",
              "      cursor: pointer;\n",
              "      display: none;\n",
              "      fill: #1967D2;\n",
              "      height: 32px;\n",
              "      padding: 0 0 0 0;\n",
              "      width: 32px;\n",
              "    }\n",
              "\n",
              "    .colab-df-convert:hover {\n",
              "      background-color: #E2EBFA;\n",
              "      box-shadow: 0px 1px 2px rgba(60, 64, 67, 0.3), 0px 1px 3px 1px rgba(60, 64, 67, 0.15);\n",
              "      fill: #174EA6;\n",
              "    }\n",
              "\n",
              "    [theme=dark] .colab-df-convert {\n",
              "      background-color: #3B4455;\n",
              "      fill: #D2E3FC;\n",
              "    }\n",
              "\n",
              "    [theme=dark] .colab-df-convert:hover {\n",
              "      background-color: #434B5C;\n",
              "      box-shadow: 0px 1px 3px 1px rgba(0, 0, 0, 0.15);\n",
              "      filter: drop-shadow(0px 1px 2px rgba(0, 0, 0, 0.3));\n",
              "      fill: #FFFFFF;\n",
              "    }\n",
              "  </style>\n",
              "\n",
              "      <script>\n",
              "        const buttonEl =\n",
              "          document.querySelector('#df-77089690-b8df-47e9-b160-d43c8e4d5666 button.colab-df-convert');\n",
              "        buttonEl.style.display =\n",
              "          google.colab.kernel.accessAllowed ? 'block' : 'none';\n",
              "\n",
              "        async function convertToInteractive(key) {\n",
              "          const element = document.querySelector('#df-77089690-b8df-47e9-b160-d43c8e4d5666');\n",
              "          const dataTable =\n",
              "            await google.colab.kernel.invokeFunction('convertToInteractive',\n",
              "                                                     [key], {});\n",
              "          if (!dataTable) return;\n",
              "\n",
              "          const docLinkHtml = 'Like what you see? Visit the ' +\n",
              "            '<a target=\"_blank\" href=https://colab.research.google.com/notebooks/data_table.ipynb>data table notebook</a>'\n",
              "            + ' to learn more about interactive tables.';\n",
              "          element.innerHTML = '';\n",
              "          dataTable['output_type'] = 'display_data';\n",
              "          await google.colab.output.renderOutput(dataTable, element);\n",
              "          const docLink = document.createElement('div');\n",
              "          docLink.innerHTML = docLinkHtml;\n",
              "          element.appendChild(docLink);\n",
              "        }\n",
              "      </script>\n",
              "    </div>\n",
              "  </div>\n",
              "  "
            ],
            "text/plain": [
              "   year month  passengers\n",
              "0  1949   Jan         112\n",
              "1  1949   Feb         118\n",
              "2  1949   Mar         132\n",
              "3  1949   Apr         129\n",
              "4  1949   May         121"
            ]
          },
          "metadata": {},
          "execution_count": 2
        }
      ]
    },
    {
      "cell_type": "code",
      "source": [
        "X=df.drop([\"passengers\"],axis=1)\n",
        "y=df[\"passengers\"]\n",
        "X.shape, y.shape"
      ],
      "metadata": {
        "colab": {
          "base_uri": "https://localhost:8080/"
        },
        "id": "HorXBtnbEh7H",
        "outputId": "93301258-7bd5-449c-f8c6-8efc166c387c"
      },
      "execution_count": null,
      "outputs": [
        {
          "output_type": "execute_result",
          "data": {
            "text/plain": [
              "((144, 2), (144,))"
            ]
          },
          "metadata": {},
          "execution_count": 3
        }
      ]
    },
    {
      "cell_type": "code",
      "source": [
        "X_train, X_test, y_train, y_test = train_test_split(X, y, test_size=0.2, random_state=42)\n",
        "X_train.shape, X_test.shape,y_train.shape, y_test.shape"
      ],
      "metadata": {
        "id": "n9lkZB4OEKhP",
        "colab": {
          "base_uri": "https://localhost:8080/"
        },
        "outputId": "b55764a8-cb4f-4f48-c84f-d5cebacc1fe7"
      },
      "execution_count": null,
      "outputs": [
        {
          "output_type": "execute_result",
          "data": {
            "text/plain": [
              "((115, 2), (29, 2), (115,), (29,))"
            ]
          },
          "metadata": {},
          "execution_count": 4
        }
      ]
    },
    {
      "cell_type": "code",
      "source": [
        "import autosklearn.regression\n",
        "automl = autosklearn.regression.AutoSklearnRegressor(\n",
        "time_left_for_this_task=5*60,per_run_time_limit=5,tmp_folder='/temp/autosklearn_regression_example_tmp')\n",
        "automl.fit(X_train, y_train)"
      ],
      "metadata": {
        "colab": {
          "base_uri": "https://localhost:8080/"
        },
        "id": "LnNPNpxM9qnb",
        "outputId": "2aa84c65-0a17-4287-8a27-3d722e4e5c7d"
      },
      "execution_count": null,
      "outputs": [
        {
          "output_type": "execute_result",
          "data": {
            "text/plain": [
              "AutoSklearnRegressor(per_run_time_limit=5, time_left_for_this_task=300,\n",
              "                     tmp_folder='/temp/autosklearn_regression_example_tmp')"
            ]
          },
          "metadata": {},
          "execution_count": 5
        }
      ]
    },
    {
      "cell_type": "code",
      "source": [
        "from sklearn.metrics import mean_absolute_error\n",
        "from autosklearn.metrics import mean_absolute_error as auto_mean_absolute_error"
      ],
      "metadata": {
        "id": "kWMr7jy_zeJH"
      },
      "execution_count": null,
      "outputs": []
    },
    {
      "cell_type": "code",
      "source": [
        "# evaluate best model\n",
        "y_pred = automl.predict(X_test)\n",
        "mae = mean_absolute_error(y_test, y_pred)\n",
        "print(\"MAE: %.3f\" % mae)"
      ],
      "metadata": {
        "colab": {
          "base_uri": "https://localhost:8080/"
        },
        "id": "kwOr4FuCzhN9",
        "outputId": "a418b3fe-6798-4ea2-956b-9509f7b81f25"
      },
      "execution_count": null,
      "outputs": [
        {
          "output_type": "stream",
          "name": "stdout",
          "text": [
            "MAE: 8.209\n"
          ]
        }
      ]
    },
    {
      "cell_type": "code",
      "source": [
        "# summarize\n",
        "print(automl.sprint_statistics())"
      ],
      "metadata": {
        "colab": {
          "base_uri": "https://localhost:8080/"
        },
        "id": "ua311BLEzkDK",
        "outputId": "0e0969a1-55c0-4bc9-b545-229867319cd6"
      },
      "execution_count": null,
      "outputs": [
        {
          "output_type": "stream",
          "name": "stdout",
          "text": [
            "auto-sklearn results:\n",
            "  Dataset name: f4a09178-81e5-11ec-8619-0242ac1c0002\n",
            "  Metric: r2\n",
            "  Best validation score: 0.985839\n",
            "  Number of target algorithm runs: 67\n",
            "  Number of successful target algorithm runs: 64\n",
            "  Number of crashed target algorithm runs: 1\n",
            "  Number of target algorithms that exceeded the time limit: 2\n",
            "  Number of target algorithms that exceeded the memory limit: 0\n",
            "\n"
          ]
        }
      ]
    },
    {
      "cell_type": "code",
      "source": [
        "print(automl.leaderboard())"
      ],
      "metadata": {
        "id": "GES302I09qtF",
        "colab": {
          "base_uri": "https://localhost:8080/"
        },
        "outputId": "d54832a0-ff42-4642-ff5c-249c7e796304"
      },
      "execution_count": null,
      "outputs": [
        {
          "output_type": "stream",
          "name": "stdout",
          "text": [
            "          rank  ensemble_weight                 type      cost  duration\n",
            "model_id                                                                \n",
            "59           1             0.02                  sgd  0.014161  0.904068\n",
            "55           2             0.18       ard_regression  0.016389  2.268613\n",
            "66           3             0.26                  sgd  0.019145  0.937000\n",
            "10           4             0.26    gradient_boosting  0.020615  2.898442\n",
            "54           5             0.22       ard_regression  0.023386  1.356912\n",
            "37           6             0.06  k_nearest_neighbors  0.157941  0.868833\n"
          ]
        }
      ]
    },
    {
      "cell_type": "code",
      "source": [
        "pprint(automl.show_models(), indent=4)"
      ],
      "metadata": {
        "id": "kQ4OiW829qvl",
        "colab": {
          "base_uri": "https://localhost:8080/"
        },
        "outputId": "01be5592-bedf-4ae4-a81a-245891f9a1f6"
      },
      "execution_count": null,
      "outputs": [
        {
          "output_type": "stream",
          "name": "stdout",
          "text": [
            "{   10: {   'cost': 0.0206147776399358,\n",
            "            'data_preprocessor': <autosklearn.pipeline.components.data_preprocessing.DataPreprocessorChoice object at 0x7fdd69940cd0>,\n",
            "            'ensemble_weight': 0.26,\n",
            "            'feature_preprocessor': <autosklearn.pipeline.components.feature_preprocessing.FeaturePreprocessorChoice object at 0x7fdd695a5990>,\n",
            "            'model_id': 10,\n",
            "            'rank': 4,\n",
            "            'regressor': <autosklearn.pipeline.components.regression.RegressorChoice object at 0x7fdd69908f90>,\n",
            "            'sklearn_regressor': HistGradientBoostingRegressor(l2_regularization=0.0018018055158809108,\n",
            "                              learning_rate=0.05048450688348591, max_iter=512,\n",
            "                              max_leaf_nodes=3, min_samples_leaf=1,\n",
            "                              n_iter_no_change=19, random_state=1,\n",
            "                              validation_fraction=0.19819612428903174,\n",
            "                              warm_start=True)},\n",
            "    37: {   'cost': 0.15794050940051485,\n",
            "            'data_preprocessor': <autosklearn.pipeline.components.data_preprocessing.DataPreprocessorChoice object at 0x7fdd697b4b50>,\n",
            "            'ensemble_weight': 0.06,\n",
            "            'feature_preprocessor': <autosklearn.pipeline.components.feature_preprocessing.FeaturePreprocessorChoice object at 0x7fdd67d37210>,\n",
            "            'model_id': 37,\n",
            "            'rank': 6,\n",
            "            'regressor': <autosklearn.pipeline.components.regression.RegressorChoice object at 0x7fdd67fcbd50>,\n",
            "            'sklearn_regressor': KNeighborsRegressor(n_neighbors=1)},\n",
            "    54: {   'cost': 0.023385793810913658,\n",
            "            'data_preprocessor': <autosklearn.pipeline.components.data_preprocessing.DataPreprocessorChoice object at 0x7fdd699403d0>,\n",
            "            'ensemble_weight': 0.22,\n",
            "            'feature_preprocessor': <autosklearn.pipeline.components.feature_preprocessing.FeaturePreprocessorChoice object at 0x7fdd67fcba90>,\n",
            "            'model_id': 54,\n",
            "            'rank': 5,\n",
            "            'regressor': <autosklearn.pipeline.components.regression.RegressorChoice object at 0x7fdd695a5c50>,\n",
            "            'sklearn_regressor': ARDRegression(alpha_1=1.0139769022311775e-05, alpha_2=5.732965210128301e-07,\n",
            "              copy_X=False, lambda_1=1.2167208389143269e-06,\n",
            "              lambda_2=1.0000000000000004e-06,\n",
            "              threshold_lambda=18960.942627832384, tol=0.00042387003712719863)},\n",
            "    55: {   'cost': 0.016389001288395155,\n",
            "            'data_preprocessor': <autosklearn.pipeline.components.data_preprocessing.DataPreprocessorChoice object at 0x7fdd69940d50>,\n",
            "            'ensemble_weight': 0.18,\n",
            "            'feature_preprocessor': <autosklearn.pipeline.components.feature_preprocessing.FeaturePreprocessorChoice object at 0x7fdd6993c0d0>,\n",
            "            'model_id': 55,\n",
            "            'rank': 2,\n",
            "            'regressor': <autosklearn.pipeline.components.regression.RegressorChoice object at 0x7fdd6998cb50>,\n",
            "            'sklearn_regressor': ARDRegression(alpha_1=1.658128098904609e-05, alpha_2=1.8705035741770205e-06,\n",
            "              copy_X=False, lambda_1=4.7628055214621024e-07,\n",
            "              lambda_2=1.0534144778623798e-06,\n",
            "              threshold_lambda=5977.121649302808, tol=0.0010000000000000002)},\n",
            "    59: {   'cost': 0.014160705718821331,\n",
            "            'data_preprocessor': <autosklearn.pipeline.components.data_preprocessing.DataPreprocessorChoice object at 0x7fdd69940ed0>,\n",
            "            'ensemble_weight': 0.02,\n",
            "            'feature_preprocessor': <autosklearn.pipeline.components.feature_preprocessing.FeaturePreprocessorChoice object at 0x7fdd6998c510>,\n",
            "            'model_id': 59,\n",
            "            'rank': 1,\n",
            "            'regressor': <autosklearn.pipeline.components.regression.RegressorChoice object at 0x7fdd6998c090>,\n",
            "            'sklearn_regressor': SGDRegressor(alpha=5.2141308362569265e-05, eta0=0.010000000000000014,\n",
            "             l1_ratio=0.46388170854421035, learning_rate='constant',\n",
            "             max_iter=64, penalty='elasticnet', power_t=0.5, random_state=1,\n",
            "             tol=7.628132546720266e-05, warm_start=True)},\n",
            "    66: {   'cost': 0.01914531848000367,\n",
            "            'data_preprocessor': <autosklearn.pipeline.components.data_preprocessing.DataPreprocessorChoice object at 0x7fdd6969e2d0>,\n",
            "            'ensemble_weight': 0.26,\n",
            "            'feature_preprocessor': <autosklearn.pipeline.components.feature_preprocessing.FeaturePreprocessorChoice object at 0x7fdd69908610>,\n",
            "            'model_id': 66,\n",
            "            'rank': 3,\n",
            "            'regressor': <autosklearn.pipeline.components.regression.RegressorChoice object at 0x7fdd6993cbd0>,\n",
            "            'sklearn_regressor': SGDRegressor(alpha=0.00019913057522145426, epsilon=0.0010114355961882732,\n",
            "             eta0=0.00028805572663687226, learning_rate='constant',\n",
            "             loss='epsilon_insensitive', max_iter=256, power_t=0.5,\n",
            "             random_state=1, tol=6.662106381602993e-05, warm_start=True)}}\n"
          ]
        }
      ]
    },
    {
      "cell_type": "code",
      "source": [
        "plt.figure(figsize=(8,6))\n",
        "plt.scatter(y_test, y_pred, c='blue')\n",
        "\n",
        "p1 = max(max(y_pred), max(y_test))\n",
        "p2 = min(min(y_pred), min(y_test))\n",
        "plt.plot([p1, p2], [p1, p2], 'r-')\n",
        "plt.xlabel('Actual', fontsize=10)\n",
        "plt.ylabel('Predicted', fontsize=10)\n",
        "plt.legend(['Actual', 'Predicted'])\n",
        "plt.axis('equal')\n",
        "plt.show()"
      ],
      "metadata": {
        "colab": {
          "base_uri": "https://localhost:8080/",
          "height": 388
        },
        "id": "UrzCEfBl1kPK",
        "outputId": "cee3fccf-5de8-4025-8d80-bd4a93150548"
      },
      "execution_count": null,
      "outputs": [
        {
          "output_type": "display_data",
          "data": {
            "image/png": "[encoded data removed]",
            "text/plain": [
              "<Figure size 576x432 with 1 Axes>"
            ]
          },
          "metadata": {
            "needs_background": "light"
          }
        }
      ]
    },
    {
      "cell_type": "code",
      "source": [
        "import pickle\n",
        "# save the model \n",
        "filename = 'final_model.sav' \n",
        "pickle.dump(automl, open(filename, 'wb'))"
      ],
      "metadata": {
        "id": "Ra7UW1IouXIz"
      },
      "execution_count": null,
      "outputs": []
    },
    {
      "cell_type": "code",
      "source": [
        "#load the model\n",
        "loaded_model = pickle.load(open(filename, 'rb'))\n",
        "result = loaded_model.score(X_test, y_test)\n",
        "print(result)"
      ],
      "metadata": {
        "colab": {
          "base_uri": "https://localhost:8080/"
        },
        "id": "gPCHfcAOuZlR",
        "outputId": "3510dc52-31e2-44f1-f7f9-1ebe91bd86d3"
      },
      "execution_count": null,
      "outputs": [
        {
          "output_type": "stream",
          "name": "stdout",
          "text": [
            "0.9880674188476266\n"
          ]
        }
      ]
    }
  ]
}